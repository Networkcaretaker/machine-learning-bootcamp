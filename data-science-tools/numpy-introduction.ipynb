{
  "cells": [
    {
      "cell_type": "markdown",
      "source": [
        "# Numpy Introduction\n",
        "\n",
        "NumPy documentation\n",
        "https://numpy.org/doc/stable/\n",
        "\n",
        "NumPy: the absolute basics for beginners\n",
        "https://numpy.org/doc/stable/user/absolute_beginners.html"
      ],
      "metadata": {
        "id": "SqO-7p0eWmJh"
      }
    },
    {
      "cell_type": "code",
      "execution_count": 1,
      "metadata": {
        "id": "OwWQ2wShEaor"
      },
      "outputs": [],
      "source": [
        "# Import NumPy\n",
        "import numpy as np"
      ]
    },
    {
      "cell_type": "markdown",
      "metadata": {
        "id": "WT5DxkdXEaoz"
      },
      "source": [
        "## 1. Array Fundamentals\n",
        "NumPy main datatype is ndarray (n-dimensional array)\n",
        "\n",
        "Python default type for an array is a \"list\"\n"
      ]
    },
    {
      "cell_type": "code",
      "source": [
        "# Python list\n",
        "py_list = [1, 2, 3]\n",
        "py_list, type(py_list)"
      ],
      "metadata": {
        "colab": {
          "base_uri": "https://localhost:8080/"
        },
        "id": "5dIv6wQUb8B4",
        "outputId": "73c46034-bbf3-403d-db23-4b757ec67978"
      },
      "execution_count": 91,
      "outputs": [
        {
          "output_type": "execute_result",
          "data": {
            "text/plain": [
              "([1, 2, 3], list)"
            ]
          },
          "metadata": {},
          "execution_count": 91
        }
      ]
    },
    {
      "cell_type": "code",
      "source": [
        "#NumPy array\n",
        "to_array = np.array(py_list)\n",
        "to_array, type(to_array)"
      ],
      "metadata": {
        "colab": {
          "base_uri": "https://localhost:8080/"
        },
        "id": "yUo20u2icUYf",
        "outputId": "25412826-7547-4258-bde6-03ebfffb5369"
      },
      "execution_count": 90,
      "outputs": [
        {
          "output_type": "execute_result",
          "data": {
            "text/plain": [
              "(array([1, 2, 3]), numpy.ndarray)"
            ]
          },
          "metadata": {},
          "execution_count": 90
        }
      ]
    },
    {
      "cell_type": "markdown",
      "source": [
        "NumPy arrays are created using the `np.array()` function"
      ],
      "metadata": {
        "id": "PCQYeXo6kg-k"
      }
    },
    {
      "cell_type": "code",
      "execution_count": 120,
      "metadata": {
        "id": "37NLo2j_Eao2",
        "outputId": "5ff816dc-0ecf-40ae-e210-040f0e84847d",
        "colab": {
          "base_uri": "https://localhost:8080/"
        }
      },
      "outputs": [
        {
          "output_type": "execute_result",
          "data": {
            "text/plain": [
              "array([1, 2, 3])"
            ]
          },
          "metadata": {},
          "execution_count": 120
        }
      ],
      "source": [
        "# 1 dimension array\n",
        "a1 = np.array([1, 2, 3])\n",
        "a1"
      ]
    },
    {
      "cell_type": "code",
      "execution_count": 121,
      "metadata": {
        "id": "sqNoOb_kEao5",
        "colab": {
          "base_uri": "https://localhost:8080/"
        },
        "outputId": "e6518d0e-1a8c-4b88-86ab-c38cb13f90af"
      },
      "outputs": [
        {
          "output_type": "execute_result",
          "data": {
            "text/plain": [
              "array([[1. , 2. , 3.3],\n",
              "       [4. , 5. , 6.5]])"
            ]
          },
          "metadata": {},
          "execution_count": 121
        }
      ],
      "source": [
        "# 2 dimension array\n",
        "a2 = np.array([[1, 2.0, 3.3],\n",
        "               [4, 5, 6.5]])\n",
        "a2"
      ]
    },
    {
      "cell_type": "code",
      "execution_count": 122,
      "metadata": {
        "id": "uDZ6mThaEao6",
        "outputId": "dcc5ca9b-baa9-46d0-f021-d8a99c48ce15",
        "colab": {
          "base_uri": "https://localhost:8080/"
        }
      },
      "outputs": [
        {
          "output_type": "execute_result",
          "data": {
            "text/plain": [
              "array([[[ 1,  2,  3],\n",
              "        [ 4,  5,  6],\n",
              "        [ 7,  8,  9]],\n",
              "\n",
              "       [[10, 11, 12],\n",
              "        [13, 14, 15],\n",
              "        [16, 17, 18]]])"
            ]
          },
          "metadata": {},
          "execution_count": 122
        }
      ],
      "source": [
        "# 3 dimension array\n",
        "a3 = np.array([[[1, 2, 3],\n",
        "                [4, 5, 6],\n",
        "                [7, 8, 9]],\n",
        "               [[10, 11, 12],\n",
        "                [13, 14, 15],\n",
        "                [16, 17, 18]]])\n",
        "a3"
      ]
    },
    {
      "cell_type": "markdown",
      "source": [
        "## 2. Basic Array Attributes\n",
        "Basic attributes of an array include:\n",
        "* `ndim` - number of dimensions in a numpy array\n",
        "* `shape` - number of elements along each dimension in a numpy array\n",
        "* `size` - total number of elements in a numpy array\n",
        "* `dtype` - data type of elements in a numpy array\n",
        "\n",
        "\n"
      ],
      "metadata": {
        "id": "MfGfHRiYeEXN"
      }
    },
    {
      "cell_type": "code",
      "source": [
        "# ndim\n",
        "array_dimensions = a1\n",
        "array_dimensions, array_dimensions.ndim"
      ],
      "metadata": {
        "colab": {
          "base_uri": "https://localhost:8080/"
        },
        "id": "LALi2jfwhWij",
        "outputId": "5e7347ba-2052-45dd-f3d8-7fddf0a1596d"
      },
      "execution_count": 112,
      "outputs": [
        {
          "output_type": "execute_result",
          "data": {
            "text/plain": [
              "(array([1, 2, 3]), 1)"
            ]
          },
          "metadata": {},
          "execution_count": 112
        }
      ]
    },
    {
      "cell_type": "code",
      "source": [
        "a1.ndim, a2.ndim, a3.ndim"
      ],
      "metadata": {
        "colab": {
          "base_uri": "https://localhost:8080/"
        },
        "id": "_Dby2e-ujNl7",
        "outputId": "1bea4ee6-faed-426e-8ed7-2ecad2c2288a"
      },
      "execution_count": 114,
      "outputs": [
        {
          "output_type": "execute_result",
          "data": {
            "text/plain": [
              "(1, 2, 3)"
            ]
          },
          "metadata": {},
          "execution_count": 114
        }
      ]
    },
    {
      "cell_type": "code",
      "source": [
        "# shape\n",
        "array_shape = a1\n",
        "array_shape, array_shape.shape"
      ],
      "metadata": {
        "colab": {
          "base_uri": "https://localhost:8080/"
        },
        "id": "HrZBW2HihmEK",
        "outputId": "7ae6a366-1035-42c4-f6aa-38af2fce5120"
      },
      "execution_count": 113,
      "outputs": [
        {
          "output_type": "execute_result",
          "data": {
            "text/plain": [
              "(array([1, 2, 3]), (3,))"
            ]
          },
          "metadata": {},
          "execution_count": 113
        }
      ]
    },
    {
      "cell_type": "code",
      "source": [
        "a1.shape, a2.shape, a3.shape"
      ],
      "metadata": {
        "colab": {
          "base_uri": "https://localhost:8080/"
        },
        "id": "yXuJh1V4jTTI",
        "outputId": "d9f6e912-be2c-414c-f9b5-a3275e373064"
      },
      "execution_count": 115,
      "outputs": [
        {
          "output_type": "execute_result",
          "data": {
            "text/plain": [
              "((3,), (2, 3), (2, 3, 3))"
            ]
          },
          "metadata": {},
          "execution_count": 115
        }
      ]
    },
    {
      "cell_type": "code",
      "source": [
        "# size\n",
        "array_size = a1\n",
        "array_size, array_size.size"
      ],
      "metadata": {
        "colab": {
          "base_uri": "https://localhost:8080/"
        },
        "id": "Se6jhzBEhseV",
        "outputId": "d8a6f925-35fc-4d63-d2c8-2a04a0dba6db"
      },
      "execution_count": 116,
      "outputs": [
        {
          "output_type": "execute_result",
          "data": {
            "text/plain": [
              "(array([1, 2, 3]), 3)"
            ]
          },
          "metadata": {},
          "execution_count": 116
        }
      ]
    },
    {
      "cell_type": "code",
      "source": [
        "a1.size, a2.size, a3.size"
      ],
      "metadata": {
        "colab": {
          "base_uri": "https://localhost:8080/"
        },
        "id": "xM1yUcUZjZUc",
        "outputId": "3b118f96-9513-48d7-90c3-501fe1b95148"
      },
      "execution_count": 117,
      "outputs": [
        {
          "output_type": "execute_result",
          "data": {
            "text/plain": [
              "(3, 6, 18)"
            ]
          },
          "metadata": {},
          "execution_count": 117
        }
      ]
    },
    {
      "cell_type": "code",
      "source": [
        "# data type\n",
        "array_dtype = a1\n",
        "array_dtype, array_dtype.dtype"
      ],
      "metadata": {
        "colab": {
          "base_uri": "https://localhost:8080/"
        },
        "id": "gKaQgwNJjdYP",
        "outputId": "96877ac5-2af0-4d6c-fb49-e64c23c3fb84"
      },
      "execution_count": 118,
      "outputs": [
        {
          "output_type": "execute_result",
          "data": {
            "text/plain": [
              "(array([1, 2, 3]), dtype('int64'))"
            ]
          },
          "metadata": {},
          "execution_count": 118
        }
      ]
    },
    {
      "cell_type": "code",
      "source": [
        "a1.dtype, a2.dtype, a3.dtype"
      ],
      "metadata": {
        "colab": {
          "base_uri": "https://localhost:8080/"
        },
        "id": "Wtlgz4QWjhtU",
        "outputId": "e3597c90-6e1f-4a04-c6c2-23b305018b4c"
      },
      "execution_count": 119,
      "outputs": [
        {
          "output_type": "execute_result",
          "data": {
            "text/plain": [
              "(dtype('int64'), dtype('float64'), dtype('int64'))"
            ]
          },
          "metadata": {},
          "execution_count": 119
        }
      ]
    },
    {
      "cell_type": "markdown",
      "metadata": {
        "id": "y8YnjtgvEapG"
      },
      "source": [
        "## 3. Creating Arrays"
      ]
    },
    {
      "cell_type": "code",
      "execution_count": 23,
      "metadata": {
        "id": "nnwq8cUXEapH",
        "outputId": "cbd26f58-6af7-40a0-f5b2-c617386d702a",
        "colab": {
          "base_uri": "https://localhost:8080/"
        }
      },
      "outputs": [
        {
          "output_type": "execute_result",
          "data": {
            "text/plain": [
              "array([1, 2, 3, 4, 5])"
            ]
          },
          "metadata": {},
          "execution_count": 23
        }
      ],
      "source": [
        "# Create a basic array\n",
        "basic_array = np.array([1, 2, 3, 4, 5])\n",
        "basic_array"
      ]
    },
    {
      "cell_type": "code",
      "execution_count": 128,
      "metadata": {
        "id": "tCIYC5edEapI",
        "outputId": "1e43549c-0070-45cc-fbe1-1a12953e3da0",
        "colab": {
          "base_uri": "https://localhost:8080/"
        }
      },
      "outputs": [
        {
          "output_type": "execute_result",
          "data": {
            "text/plain": [
              "array([[1., 1., 1.],\n",
              "       [1., 1., 1.]])"
            ]
          },
          "metadata": {},
          "execution_count": 128
        }
      ],
      "source": [
        "# Create an array of given shape with 1's\n",
        "ones_array = np.ones((2, 3))\n",
        "ones_array"
      ]
    },
    {
      "cell_type": "code",
      "execution_count": 129,
      "metadata": {
        "id": "CwGKaK7BEapJ",
        "outputId": "78035fe3-da1e-42e2-aa51-5170ed4f02f6",
        "colab": {
          "base_uri": "https://localhost:8080/"
        }
      },
      "outputs": [
        {
          "output_type": "execute_result",
          "data": {
            "text/plain": [
              "array([[0., 0., 0.],\n",
              "       [0., 0., 0.]])"
            ]
          },
          "metadata": {},
          "execution_count": 129
        }
      ],
      "source": [
        "# Create an array of given shape with 0's\n",
        "zeros_array = np.zeros((2, 3))\n",
        "zeros_array"
      ]
    },
    {
      "cell_type": "code",
      "execution_count": 30,
      "metadata": {
        "id": "w9wW9VauEapK",
        "outputId": "6106f97f-87ee-4aec-a95e-87c078e8280f",
        "colab": {
          "base_uri": "https://localhost:8080/"
        }
      },
      "outputs": [
        {
          "output_type": "execute_result",
          "data": {
            "text/plain": [
              "array([ 0,  5, 10, 15, 20, 25, 30, 35, 40, 45])"
            ]
          },
          "metadata": {},
          "execution_count": 30
        }
      ],
      "source": [
        "# Create an array with a range\n",
        "range_array = np.arange(0, 50, 5) # (start, end, step)\n",
        "range_array"
      ]
    },
    {
      "cell_type": "code",
      "execution_count": 31,
      "metadata": {
        "id": "xQEM-K44EapK",
        "outputId": "72dcc736-e6e8-4587-d539-ee70bbec82ae",
        "colab": {
          "base_uri": "https://localhost:8080/"
        }
      },
      "outputs": [
        {
          "output_type": "execute_result",
          "data": {
            "text/plain": [
              "array([[1, 3, 9, 6, 3],\n",
              "       [7, 8, 0, 7, 4],\n",
              "       [2, 5, 6, 2, 4]])"
            ]
          },
          "metadata": {},
          "execution_count": 31
        }
      ],
      "source": [
        "# Create an array with a random intergers\n",
        "random_array = np.random.randint(0, 10, size=(3, 5)) # (low, high, size=(), dtype(optional))\n",
        "random_array"
      ]
    },
    {
      "cell_type": "code",
      "execution_count": 34,
      "metadata": {
        "id": "_OEpFYzDEapL",
        "outputId": "50a70082-68cc-4ab0-c1a6-c3434a8a3e6d",
        "colab": {
          "base_uri": "https://localhost:8080/"
        }
      },
      "outputs": [
        {
          "output_type": "execute_result",
          "data": {
            "text/plain": [
              "array([[0.73764338, 0.02741085, 0.28786632],\n",
              "       [0.38618345, 0.60497365, 0.03201239],\n",
              "       [0.13099402, 0.21524354, 0.63570104],\n",
              "       [0.62953474, 0.60277985, 0.85353142],\n",
              "       [0.62312144, 0.74892059, 0.9732297 ]])"
            ]
          },
          "metadata": {},
          "execution_count": 34
        }
      ],
      "source": [
        "# Create an array with a random float values version 1\n",
        "random_array_2 = np.random.random((5, 3)) # random((size))\n",
        "random_array_2"
      ]
    },
    {
      "cell_type": "code",
      "execution_count": 36,
      "metadata": {
        "id": "uaO6eCyFEapM",
        "outputId": "68b2ed10-b3a5-470b-8acd-963f1438a4f9",
        "colab": {
          "base_uri": "https://localhost:8080/"
        }
      },
      "outputs": [
        {
          "output_type": "execute_result",
          "data": {
            "text/plain": [
              "array([[0.73712601, 0.36966879, 0.71769807],\n",
              "       [0.52748928, 0.81408424, 0.52876404],\n",
              "       [0.75383364, 0.05352233, 0.99253221],\n",
              "       [0.30996714, 0.1594727 , 0.93344093],\n",
              "       [0.21739337, 0.33526053, 0.08348954]])"
            ]
          },
          "metadata": {},
          "execution_count": 36
        }
      ],
      "source": [
        "# Create an array with a random float values version 2\n",
        "random_array_3 = np.random.rand(5, 3) # random(size)\n",
        "random_array_3"
      ]
    },
    {
      "cell_type": "code",
      "execution_count": 37,
      "metadata": {
        "id": "lhHcVlbMEapN",
        "outputId": "7cb68e29-4d26-4c82-fe64-1b6fd221850a",
        "colab": {
          "base_uri": "https://localhost:8080/"
        }
      },
      "outputs": [
        {
          "output_type": "execute_result",
          "data": {
            "text/plain": [
              "array([[0, 3, 1],\n",
              "       [8, 1, 3],\n",
              "       [8, 5, 6],\n",
              "       [0, 6, 0],\n",
              "       [4, 0, 9]])"
            ]
          },
          "metadata": {},
          "execution_count": 37
        }
      ],
      "source": [
        "# Create a random interger array with Pseudo-random numbers\n",
        "np.random.seed(seed=99999) # array will use the seed to create fixed (Pseudo-random) numbers\n",
        "random_array_4 = np.random.randint(10, size=(5, 3))\n",
        "random_array_4"
      ]
    },
    {
      "cell_type": "code",
      "execution_count": 127,
      "metadata": {
        "id": "2JA9kLTXEapN",
        "outputId": "a9b53d8a-778b-4aab-c806-c6acf66677e7",
        "colab": {
          "base_uri": "https://localhost:8080/"
        }
      },
      "outputs": [
        {
          "output_type": "execute_result",
          "data": {
            "text/plain": [
              "array([[0.07630829, 0.77991879, 0.43840923],\n",
              "       [0.72346518, 0.97798951, 0.53849587],\n",
              "       [0.50112046, 0.07205113, 0.26843898],\n",
              "       [0.4998825 , 0.67923   , 0.80373904],\n",
              "       [0.38094113, 0.06593635, 0.2881456 ]])"
            ]
          },
          "metadata": {},
          "execution_count": 127
        }
      ],
      "source": [
        "# Create a random float array with Pseudo-random numbers\n",
        "np.random.seed(7)\n",
        "random_array_5 = np.random.random((5, 3))\n",
        "random_array_5"
      ]
    },
    {
      "cell_type": "markdown",
      "metadata": {
        "id": "oKWDs8u7EapQ"
      },
      "source": [
        "## 3. Indexing Arrays"
      ]
    },
    {
      "cell_type": "code",
      "source": [
        "index_array = a3\n",
        "index_array"
      ],
      "metadata": {
        "colab": {
          "base_uri": "https://localhost:8080/"
        },
        "id": "9weETxZkw_9L",
        "outputId": "fb31b829-7075-40ef-857d-c1294589e845"
      },
      "execution_count": 169,
      "outputs": [
        {
          "output_type": "execute_result",
          "data": {
            "text/plain": [
              "array([[[ 1,  2,  3],\n",
              "        [ 4,  5,  6],\n",
              "        [ 7,  8,  9]],\n",
              "\n",
              "       [[10, 11, 12],\n",
              "        [13, 14, 15],\n",
              "        [16, 17, 18]]])"
            ]
          },
          "metadata": {},
          "execution_count": 169
        }
      ]
    },
    {
      "cell_type": "code",
      "source": [
        "index_array.shape, index_array.ndim"
      ],
      "metadata": {
        "colab": {
          "base_uri": "https://localhost:8080/"
        },
        "id": "YziOXAGCwweF",
        "outputId": "74aa4bdb-ff0f-44d6-b1f3-aac60ded524d"
      },
      "execution_count": 170,
      "outputs": [
        {
          "output_type": "execute_result",
          "data": {
            "text/plain": [
              "((2, 3, 3), 3)"
            ]
          },
          "metadata": {},
          "execution_count": 170
        }
      ]
    },
    {
      "cell_type": "code",
      "source": [
        "# index the array at the 0 index of the 1st dimension\n",
        "index_array[0]"
      ],
      "metadata": {
        "colab": {
          "base_uri": "https://localhost:8080/"
        },
        "id": "G86yQfNQw7LA",
        "outputId": "8fda7a27-64a2-4df4-d6cb-4aa6c299473e"
      },
      "execution_count": 171,
      "outputs": [
        {
          "output_type": "execute_result",
          "data": {
            "text/plain": [
              "array([[1, 2, 3],\n",
              "       [4, 5, 6],\n",
              "       [7, 8, 9]])"
            ]
          },
          "metadata": {},
          "execution_count": 171
        }
      ]
    },
    {
      "cell_type": "code",
      "source": [
        "# index the array at the 1 index of the 1st dimension\n",
        "index_array[1]"
      ],
      "metadata": {
        "colab": {
          "base_uri": "https://localhost:8080/"
        },
        "id": "orqeM5B11BqS",
        "outputId": "276c50ce-85da-408e-cbdd-e6b2aeb2b71e"
      },
      "execution_count": 172,
      "outputs": [
        {
          "output_type": "execute_result",
          "data": {
            "text/plain": [
              "array([[10, 11, 12],\n",
              "       [13, 14, 15],\n",
              "       [16, 17, 18]])"
            ]
          },
          "metadata": {},
          "execution_count": 172
        }
      ]
    },
    {
      "cell_type": "code",
      "source": [
        "# index each row at the 0 index of the 2nd dimension\n",
        "index_array[0][0], index_array[0][1], index_array[0][2]"
      ],
      "metadata": {
        "colab": {
          "base_uri": "https://localhost:8080/"
        },
        "id": "wxVJL_v4xXY6",
        "outputId": "8374d57e-d943-4e71-dda4-c184a4752014"
      },
      "execution_count": 173,
      "outputs": [
        {
          "output_type": "execute_result",
          "data": {
            "text/plain": [
              "(array([1, 2, 3]), array([4, 5, 6]), array([7, 8, 9]))"
            ]
          },
          "metadata": {},
          "execution_count": 173
        }
      ]
    },
    {
      "cell_type": "code",
      "source": [
        "# index each row at the 1 index of the 2nd dimension\n",
        "index_array[1][0], index_array[1][1], index_array[1][2]"
      ],
      "metadata": {
        "colab": {
          "base_uri": "https://localhost:8080/"
        },
        "id": "qwOVtP1hxfRW",
        "outputId": "7a0f8cff-ae3e-4d98-db58-8b84102518b7"
      },
      "execution_count": 174,
      "outputs": [
        {
          "output_type": "execute_result",
          "data": {
            "text/plain": [
              "(array([10, 11, 12]), array([13, 14, 15]), array([16, 17, 18]))"
            ]
          },
          "metadata": {},
          "execution_count": 174
        }
      ]
    },
    {
      "cell_type": "code",
      "source": [
        "# index each value at the 0 index of 0 indexed row of the 3rd dimension\n",
        "index_array[0][0][0], index_array[0][0][1], index_array[0][0][2]"
      ],
      "metadata": {
        "colab": {
          "base_uri": "https://localhost:8080/"
        },
        "id": "6u3eiHtM1NZc",
        "outputId": "7dcd8f55-20d5-44ac-d9d2-0bb33723f8d4"
      },
      "execution_count": 175,
      "outputs": [
        {
          "output_type": "execute_result",
          "data": {
            "text/plain": [
              "(1, 2, 3)"
            ]
          },
          "metadata": {},
          "execution_count": 175
        }
      ]
    },
    {
      "cell_type": "code",
      "source": [
        "# index each value at the 0 index of 1 indexed row of the 3rd dimension\n",
        "index_array[0][1][0], index_array[0][1][1], index_array[0][1][2]"
      ],
      "metadata": {
        "colab": {
          "base_uri": "https://localhost:8080/"
        },
        "id": "w6PdPNO-2doe",
        "outputId": "578ca336-c477-4b62-d0d2-ec7735e0ef69"
      },
      "execution_count": 176,
      "outputs": [
        {
          "output_type": "execute_result",
          "data": {
            "text/plain": [
              "(4, 5, 6)"
            ]
          },
          "metadata": {},
          "execution_count": 176
        }
      ]
    },
    {
      "cell_type": "code",
      "source": [
        "# index each value at the 1 index of 1 indexed row of the 3rd dimension\n",
        "index_array[1][1][0], index_array[1][1][1], index_array[1][1][2]"
      ],
      "metadata": {
        "colab": {
          "base_uri": "https://localhost:8080/"
        },
        "id": "DM6shRD63VtY",
        "outputId": "aa05fe22-38af-4e68-ee50-56c322536f9f"
      },
      "execution_count": 180,
      "outputs": [
        {
          "output_type": "execute_result",
          "data": {
            "text/plain": [
              "(13, 14, 15)"
            ]
          },
          "metadata": {},
          "execution_count": 180
        }
      ]
    },
    {
      "cell_type": "code",
      "source": [
        "# index up to the 1 index of 1st dimension\n",
        "index_array[:1]"
      ],
      "metadata": {
        "colab": {
          "base_uri": "https://localhost:8080/"
        },
        "id": "QjVX3fx9x7nb",
        "outputId": "de3c3d7f-dfea-489f-de29-5ec98a96498c"
      },
      "execution_count": 181,
      "outputs": [
        {
          "output_type": "execute_result",
          "data": {
            "text/plain": [
              "array([[[1, 2, 3],\n",
              "        [4, 5, 6],\n",
              "        [7, 8, 9]]])"
            ]
          },
          "metadata": {},
          "execution_count": 181
        }
      ]
    },
    {
      "cell_type": "code",
      "source": [
        "# index from the 1 index of 1st dimension\n",
        "index_array[1:]"
      ],
      "metadata": {
        "colab": {
          "base_uri": "https://localhost:8080/"
        },
        "id": "Gsmrmfel24fU",
        "outputId": "c27b4942-17e4-47fd-9ea6-574d21f63c4b"
      },
      "execution_count": 183,
      "outputs": [
        {
          "output_type": "execute_result",
          "data": {
            "text/plain": [
              "array([[[10, 11, 12],\n",
              "        [13, 14, 15],\n",
              "        [16, 17, 18]]])"
            ]
          },
          "metadata": {},
          "execution_count": 183
        }
      ]
    },
    {
      "cell_type": "code",
      "execution_count": 184,
      "metadata": {
        "id": "b8JZb9ojEapZ",
        "outputId": "bb6a2444-e290-4866-e8c6-bd1a7a1749b9",
        "colab": {
          "base_uri": "https://localhost:8080/"
        }
      },
      "outputs": [
        {
          "output_type": "execute_result",
          "data": {
            "text/plain": [
              "array([[[[3, 5, 8, 8, 7],\n",
              "         [5, 0, 0, 2, 8],\n",
              "         [9, 6, 4, 9, 7],\n",
              "         [3, 3, 8, 3, 0]],\n",
              "\n",
              "        [[1, 0, 0, 6, 7],\n",
              "         [7, 9, 3, 0, 7],\n",
              "         [7, 7, 0, 5, 4],\n",
              "         [3, 1, 3, 1, 3]],\n",
              "\n",
              "        [[4, 3, 1, 9, 5],\n",
              "         [9, 1, 2, 3, 2],\n",
              "         [2, 5, 7, 3, 0],\n",
              "         [9, 9, 3, 4, 5]]],\n",
              "\n",
              "\n",
              "       [[[3, 0, 4, 8, 6],\n",
              "         [7, 2, 7, 3, 8],\n",
              "         [6, 6, 5, 6, 5],\n",
              "         [7, 1, 5, 4, 4]],\n",
              "\n",
              "        [[9, 9, 0, 6, 2],\n",
              "         [6, 8, 2, 4, 1],\n",
              "         [6, 1, 5, 1, 6],\n",
              "         [9, 8, 6, 5, 9]],\n",
              "\n",
              "        [[7, 5, 4, 9, 6],\n",
              "         [8, 1, 5, 5, 8],\n",
              "         [3, 7, 7, 9, 4],\n",
              "         [7, 5, 9, 6, 2]]]])"
            ]
          },
          "metadata": {},
          "execution_count": 184
        }
      ],
      "source": [
        "a4 = np.random.randint(10, size=(2, 3, 4, 5))\n",
        "a4"
      ]
    },
    {
      "cell_type": "code",
      "execution_count": 57,
      "metadata": {
        "id": "VHoxzPNgEapZ",
        "outputId": "9b2ad875-237e-4f00-ce64-c71ea863b3d6",
        "colab": {
          "base_uri": "https://localhost:8080/"
        }
      },
      "outputs": [
        {
          "output_type": "execute_result",
          "data": {
            "text/plain": [
              "((2, 3, 4, 5), 4)"
            ]
          },
          "metadata": {},
          "execution_count": 57
        }
      ],
      "source": [
        "a4.shape, a4.ndim"
      ]
    },
    {
      "cell_type": "code",
      "source": [
        "# Get the second block in the array\n",
        "a4[:1, 1:2, :, :]"
      ],
      "metadata": {
        "colab": {
          "base_uri": "https://localhost:8080/"
        },
        "id": "eOqSZ80I4rAD",
        "outputId": "643c180a-5cec-47f3-d609-8181065a7944"
      },
      "execution_count": 211,
      "outputs": [
        {
          "output_type": "execute_result",
          "data": {
            "text/plain": [
              "array([[[[1, 0, 0, 6, 7],\n",
              "         [7, 9, 3, 0, 7],\n",
              "         [7, 7, 0, 5, 4],\n",
              "         [3, 1, 3, 1, 3]]]])"
            ]
          },
          "metadata": {},
          "execution_count": 211
        }
      ]
    },
    {
      "cell_type": "code",
      "execution_count": 185,
      "metadata": {
        "id": "8vY6GFitEapZ",
        "outputId": "4b3775ff-cb3d-490b-fe92-94ddbb786a5b",
        "colab": {
          "base_uri": "https://localhost:8080/"
        }
      },
      "outputs": [
        {
          "output_type": "execute_result",
          "data": {
            "text/plain": [
              "array([[[[3],\n",
              "         [5],\n",
              "         [9],\n",
              "         [3]],\n",
              "\n",
              "        [[1],\n",
              "         [7],\n",
              "         [7],\n",
              "         [3]],\n",
              "\n",
              "        [[4],\n",
              "         [9],\n",
              "         [2],\n",
              "         [9]]],\n",
              "\n",
              "\n",
              "       [[[3],\n",
              "         [7],\n",
              "         [6],\n",
              "         [7]],\n",
              "\n",
              "        [[9],\n",
              "         [6],\n",
              "         [6],\n",
              "         [9]],\n",
              "\n",
              "        [[7],\n",
              "         [8],\n",
              "         [3],\n",
              "         [7]]]])"
            ]
          },
          "metadata": {},
          "execution_count": 185
        }
      ],
      "source": [
        "# Get the first 4 numbers of the inner most arrays\n",
        "a4[:, :, :, :1]"
      ]
    },
    {
      "cell_type": "code",
      "execution_count": 213,
      "metadata": {
        "id": "4cP1iw7QEapQ",
        "outputId": "0ab78f0a-82aa-4b09-b937-af7b92b56d8c",
        "colab": {
          "base_uri": "https://localhost:8080/"
        }
      },
      "outputs": [
        {
          "output_type": "execute_result",
          "data": {
            "text/plain": [
              "array([0, 1, 3, 4, 5, 6, 8, 9])"
            ]
          },
          "metadata": {},
          "execution_count": 213
        }
      ],
      "source": [
        "# Get all unique numbers from an array\n",
        "np.unique(random_array_4)"
      ]
    },
    {
      "cell_type": "markdown",
      "metadata": {
        "id": "w80FOHtKEapa"
      },
      "source": [
        "## 4. Manipulating Arrays"
      ]
    },
    {
      "cell_type": "markdown",
      "metadata": {
        "id": "rc9sr4p-Eapa"
      },
      "source": [
        "### Basic Arithmetic"
      ]
    },
    {
      "cell_type": "code",
      "execution_count": 240,
      "metadata": {
        "id": "WrJGkabuEapa",
        "outputId": "46df0ef3-f689-4b18-b260-d514db1739f7",
        "colab": {
          "base_uri": "https://localhost:8080/"
        }
      },
      "outputs": [
        {
          "output_type": "execute_result",
          "data": {
            "text/plain": [
              "(array([ 5, 10, 15]), array([2, 3, 4]))"
            ]
          },
          "metadata": {},
          "execution_count": 240
        }
      ],
      "source": [
        "a6 = np.array([5, 10, 15])\n",
        "a7 = np.array([2, 3, 4])\n",
        "a6, a7"
      ]
    },
    {
      "cell_type": "code",
      "execution_count": 234,
      "metadata": {
        "id": "NDuRXo9bEapb",
        "outputId": "44f93b10-5ac4-44ed-cd80-d1c1de29870c",
        "colab": {
          "base_uri": "https://localhost:8080/"
        }
      },
      "outputs": [
        {
          "output_type": "execute_result",
          "data": {
            "text/plain": [
              "array([ 7, 13, 19])"
            ]
          },
          "metadata": {},
          "execution_count": 234
        }
      ],
      "source": [
        "addition = a6 + a7\n",
        "addition"
      ]
    },
    {
      "cell_type": "code",
      "execution_count": 235,
      "metadata": {
        "id": "qjR19nkBEapb",
        "outputId": "624de59c-1b04-47d4-e69d-8e6f9f91a870",
        "colab": {
          "base_uri": "https://localhost:8080/"
        }
      },
      "outputs": [
        {
          "output_type": "execute_result",
          "data": {
            "text/plain": [
              "array([ 3,  7, 11])"
            ]
          },
          "metadata": {},
          "execution_count": 235
        }
      ],
      "source": [
        "subtraction = a6 - a7\n",
        "subtraction"
      ]
    },
    {
      "cell_type": "code",
      "execution_count": 236,
      "metadata": {
        "id": "bEj8OBuSEapb",
        "outputId": "bd09865b-e209-4592-cd61-7537f71d7cd6",
        "colab": {
          "base_uri": "https://localhost:8080/"
        }
      },
      "outputs": [
        {
          "output_type": "execute_result",
          "data": {
            "text/plain": [
              "array([10, 30, 60])"
            ]
          },
          "metadata": {},
          "execution_count": 236
        }
      ],
      "source": [
        "multiplication = a6 * a7\n",
        "multiplication"
      ]
    },
    {
      "cell_type": "code",
      "execution_count": 237,
      "metadata": {
        "id": "4puz86l-Eapf",
        "outputId": "6c5f530f-97be-45a4-b001-be360e6cbe04",
        "colab": {
          "base_uri": "https://localhost:8080/"
        }
      },
      "outputs": [
        {
          "output_type": "execute_result",
          "data": {
            "text/plain": [
              "array([2.5       , 3.33333333, 3.75      ])"
            ]
          },
          "metadata": {},
          "execution_count": 237
        }
      ],
      "source": [
        "division = a6 / a7\n",
        "division"
      ]
    },
    {
      "cell_type": "code",
      "execution_count": 238,
      "metadata": {
        "id": "SR_sGu_LEapg",
        "outputId": "e20f56b3-a39a-4263-8857-1a17d0813534",
        "colab": {
          "base_uri": "https://localhost:8080/"
        }
      },
      "outputs": [
        {
          "output_type": "execute_result",
          "data": {
            "text/plain": [
              "array([2, 3, 3])"
            ]
          },
          "metadata": {},
          "execution_count": 238
        }
      ],
      "source": [
        "floor_division = a6 // a7 # Floor division removes the decimals (rounds down)\n",
        "floor_division"
      ]
    },
    {
      "cell_type": "code",
      "execution_count": 239,
      "metadata": {
        "id": "D7vMZuQZEapg",
        "outputId": "cd74cb98-8b22-4752-da0a-f5f13c7dc94c",
        "colab": {
          "base_uri": "https://localhost:8080/"
        }
      },
      "outputs": [
        {
          "output_type": "execute_result",
          "data": {
            "text/plain": [
              "array([ 25, 100, 225])"
            ]
          },
          "metadata": {},
          "execution_count": 239
        }
      ],
      "source": [
        "square_array  = a6 ** 2\n",
        "square_array"
      ]
    },
    {
      "cell_type": "markdown",
      "source": [
        "### Arithmetic Functions"
      ],
      "metadata": {
        "id": "JzfQmuTc_MMj"
      }
    },
    {
      "cell_type": "code",
      "execution_count": 241,
      "metadata": {
        "id": "3fg7ihqBEaph",
        "outputId": "20b0bc8c-9248-4a8e-8b38-73649eef4119",
        "colab": {
          "base_uri": "https://localhost:8080/"
        }
      },
      "outputs": [
        {
          "output_type": "execute_result",
          "data": {
            "text/plain": [
              "array([ 4,  9, 16])"
            ]
          },
          "metadata": {},
          "execution_count": 241
        }
      ],
      "source": [
        "# square arrays with function\n",
        "np.square(a7)"
      ]
    },
    {
      "cell_type": "code",
      "execution_count": 242,
      "metadata": {
        "id": "RIBYZTnQEaph",
        "outputId": "a95cf19d-ef86-4b1d-b4f8-da95619865fb",
        "colab": {
          "base_uri": "https://localhost:8080/"
        }
      },
      "outputs": [
        {
          "output_type": "execute_result",
          "data": {
            "text/plain": [
              "array([ 7, 13, 19])"
            ]
          },
          "metadata": {},
          "execution_count": 242
        }
      ],
      "source": [
        "# add arrays with function\n",
        "np.add(a6, a7)"
      ]
    },
    {
      "cell_type": "code",
      "execution_count": 244,
      "metadata": {
        "id": "m4VDcIKXEapl",
        "outputId": "e13fb1d6-c4ca-4b93-9387-d5cae50cb94a",
        "colab": {
          "base_uri": "https://localhost:8080/"
        }
      },
      "outputs": [
        {
          "output_type": "execute_result",
          "data": {
            "text/plain": [
              "(array([ 5, 10, 15]), array([0, 1, 0]))"
            ]
          },
          "metadata": {},
          "execution_count": 244
        }
      ],
      "source": [
        "a6, a7 % 2"
      ]
    },
    {
      "cell_type": "code",
      "execution_count": 81,
      "metadata": {
        "id": "8aJvf60nEapm",
        "outputId": "da715d38-c704-4027-9ae2-858665cafc3e",
        "colab": {
          "base_uri": "https://localhost:8080/"
        }
      },
      "outputs": [
        {
          "output_type": "execute_result",
          "data": {
            "text/plain": [
              "array([0.5, 1. , 1.5])"
            ]
          },
          "metadata": {},
          "execution_count": 81
        }
      ],
      "source": [
        "a1 / 2"
      ]
    },
    {
      "cell_type": "code",
      "execution_count": 82,
      "metadata": {
        "id": "EZdG18q1Eapn",
        "outputId": "8166dd5e-014e-4047-d466-1d91343b9e57",
        "colab": {
          "base_uri": "https://localhost:8080/"
        }
      },
      "outputs": [
        {
          "output_type": "execute_result",
          "data": {
            "text/plain": [
              "array([[1. , 0. , 1.3],\n",
              "       [0. , 1. , 0.5]])"
            ]
          },
          "metadata": {},
          "execution_count": 82
        }
      ],
      "source": [
        "a2 % 2"
      ]
    },
    {
      "cell_type": "code",
      "execution_count": 83,
      "metadata": {
        "id": "OjQrveSVEapo",
        "outputId": "f31e3e28-db36-4d32-dfc4-69d6d514dff5",
        "colab": {
          "base_uri": "https://localhost:8080/"
        }
      },
      "outputs": [
        {
          "output_type": "execute_result",
          "data": {
            "text/plain": [
              "array([ 2.71828183,  7.3890561 , 20.08553692])"
            ]
          },
          "metadata": {},
          "execution_count": 83
        }
      ],
      "source": [
        "np.exp(a1)"
      ]
    },
    {
      "cell_type": "code",
      "execution_count": 84,
      "metadata": {
        "id": "h1pa16jrEapp",
        "outputId": "b01d299e-6775-4b67-8d5f-596382fcb807",
        "colab": {
          "base_uri": "https://localhost:8080/"
        }
      },
      "outputs": [
        {
          "output_type": "execute_result",
          "data": {
            "text/plain": [
              "array([0.        , 0.69314718, 1.09861229])"
            ]
          },
          "metadata": {},
          "execution_count": 84
        }
      ],
      "source": [
        "np.log(a1)"
      ]
    },
    {
      "cell_type": "markdown",
      "metadata": {
        "id": "40EB2HaJEapq"
      },
      "source": [
        "### Aggregation\n",
        "\n",
        "Aggregation = performing the same operation on a number of things"
      ]
    },
    {
      "cell_type": "code",
      "execution_count": null,
      "metadata": {
        "id": "n58tOHgKEapq",
        "outputId": "d59b667e-dcc4-466a-ad6b-e9f61e2ecba3"
      },
      "outputs": [
        {
          "data": {
            "text/plain": [
              "list"
            ]
          },
          "execution_count": 193,
          "metadata": {},
          "output_type": "execute_result"
        }
      ],
      "source": [
        "listy_list = [1, 2, 3]\n",
        "type(listy_list)"
      ]
    },
    {
      "cell_type": "code",
      "execution_count": null,
      "metadata": {
        "id": "-zBeXp5SEapr",
        "outputId": "6d15e03e-0232-4ef9-ec51-ae795779ac26"
      },
      "outputs": [
        {
          "data": {
            "text/plain": [
              "6"
            ]
          },
          "execution_count": 194,
          "metadata": {},
          "output_type": "execute_result"
        }
      ],
      "source": [
        "sum(listy_list)"
      ]
    },
    {
      "cell_type": "code",
      "execution_count": null,
      "metadata": {
        "id": "GPmNzRJjEapr",
        "outputId": "1bfc2d4f-0223-4d17-846a-0f4f80b1a91d"
      },
      "outputs": [
        {
          "data": {
            "text/plain": [
              "6"
            ]
          },
          "execution_count": 197,
          "metadata": {},
          "output_type": "execute_result"
        }
      ],
      "source": [
        "sum(a1)"
      ]
    },
    {
      "cell_type": "code",
      "execution_count": null,
      "metadata": {
        "id": "QsO4ptF2Eapr",
        "outputId": "27d3e02a-e630-4ca8-aef9-e7b841b8104f"
      },
      "outputs": [
        {
          "data": {
            "text/plain": [
              "6"
            ]
          },
          "execution_count": 198,
          "metadata": {},
          "output_type": "execute_result"
        }
      ],
      "source": [
        "np.sum(a1)"
      ]
    },
    {
      "cell_type": "markdown",
      "metadata": {
        "id": "9nYn1eVUEaps"
      },
      "source": [
        "Use Python's methods (`sum()`) on Python datatypes and use NumPy's methods on NumPy arrays (`np.sum()`)."
      ]
    },
    {
      "cell_type": "code",
      "execution_count": null,
      "metadata": {
        "id": "zwLX52svEaps",
        "outputId": "20fe9b9f-ebb8-4f05-931f-db949725d0f2"
      },
      "outputs": [
        {
          "data": {
            "text/plain": [
              "100000"
            ]
          },
          "execution_count": 199,
          "metadata": {},
          "output_type": "execute_result"
        }
      ],
      "source": [
        "# Creative a massive NumPy array\n",
        "massive_array = np.random.random(100000)\n",
        "massive_array.size"
      ]
    },
    {
      "cell_type": "code",
      "execution_count": null,
      "metadata": {
        "id": "x4rSmoHJEaps",
        "outputId": "37eaa961-cc22-4ca7-ee64-43a80e94e792"
      },
      "outputs": [
        {
          "data": {
            "text/plain": [
              "array([0.67959677, 0.44959741, 0.3896631 , 0.66184575, 0.01048353,\n",
              "       0.26151906, 0.75223629, 0.93748825, 0.67568463, 0.49847177])"
            ]
          },
          "execution_count": 201,
          "metadata": {},
          "output_type": "execute_result"
        }
      ],
      "source": [
        "massive_array[:10]"
      ]
    },
    {
      "cell_type": "code",
      "execution_count": null,
      "metadata": {
        "id": "6akUXJkHEapt",
        "outputId": "2327a2c0-cfaf-4e21-d781-63c6a60a8f7f"
      },
      "outputs": [
        {
          "name": "stdout",
          "output_type": "stream",
          "text": [
            "17.9 ms ± 2.94 ms per loop (mean ± std. dev. of 7 runs, 10 loops each)\n",
            "34 µs ± 391 ns per loop (mean ± std. dev. of 7 runs, 10000 loops each)\n"
          ]
        }
      ],
      "source": [
        "%timeit sum(massive_array) # Python's sum()\n",
        "%timeit np.sum(massive_array) # NumPy's np.sum()"
      ]
    },
    {
      "cell_type": "code",
      "execution_count": null,
      "metadata": {
        "id": "7FEmLZdBEapt",
        "outputId": "4ce8054a-c946-4557-e87c-c3a7ffcb39d5"
      },
      "outputs": [
        {
          "data": {
            "text/plain": [
              "526.4705882352941"
            ]
          },
          "execution_count": 203,
          "metadata": {},
          "output_type": "execute_result"
        }
      ],
      "source": [
        "17900 / 34"
      ]
    },
    {
      "cell_type": "code",
      "execution_count": null,
      "metadata": {
        "id": "Qb8-hSrxEapu",
        "outputId": "72d884bf-2fe4-4331-fb0b-1141fc8c2460"
      },
      "outputs": [
        {
          "data": {
            "text/plain": [
              "array([[1. , 2. , 3.3],\n",
              "       [4. , 5. , 6.5]])"
            ]
          },
          "execution_count": 204,
          "metadata": {},
          "output_type": "execute_result"
        }
      ],
      "source": [
        "a2"
      ]
    },
    {
      "cell_type": "code",
      "execution_count": null,
      "metadata": {
        "id": "fXOASdRPEapu",
        "outputId": "6aadf4e9-1ca9-4eba-feb4-7e3566616903"
      },
      "outputs": [
        {
          "data": {
            "text/plain": [
              "3.6333333333333333"
            ]
          },
          "execution_count": 205,
          "metadata": {},
          "output_type": "execute_result"
        }
      ],
      "source": [
        "np.mean(a2)"
      ]
    },
    {
      "cell_type": "code",
      "execution_count": null,
      "metadata": {
        "id": "2K25rFnGEapu",
        "outputId": "f5185814-aa3b-47b3-f435-f1c67019b677"
      },
      "outputs": [
        {
          "data": {
            "text/plain": [
              "6.5"
            ]
          },
          "execution_count": 206,
          "metadata": {},
          "output_type": "execute_result"
        }
      ],
      "source": [
        "np.max(a2)"
      ]
    },
    {
      "cell_type": "code",
      "execution_count": null,
      "metadata": {
        "id": "PDKs5DdREapu",
        "outputId": "8b3ed490-367f-40a7-ec28-f4b45002f984"
      },
      "outputs": [
        {
          "data": {
            "text/plain": [
              "1.0"
            ]
          },
          "execution_count": 207,
          "metadata": {},
          "output_type": "execute_result"
        }
      ],
      "source": [
        "np.min(a2)"
      ]
    },
    {
      "cell_type": "markdown",
      "metadata": {
        "id": "EcWtgjYnEapv"
      },
      "source": [
        "**Standard deviation** and **variance** are measures of 'spread' of data.\n",
        "\n",
        "The higher standard deviation and the higher variance of data, the more spread out the values are.\n",
        "\n",
        "The lower standard deviation and lower variance, the less spread out the values are."
      ]
    },
    {
      "cell_type": "code",
      "execution_count": null,
      "metadata": {
        "id": "Ob1TSqM_Eapw",
        "outputId": "ce88d1f2-0f97-43b2-b499-e555fdc2bfc2"
      },
      "outputs": [
        {
          "data": {
            "text/plain": [
              "1.8226964152656422"
            ]
          },
          "execution_count": 208,
          "metadata": {},
          "output_type": "execute_result"
        }
      ],
      "source": [
        "# Standard deviation = a measure of how spread out a group of numbers is from the mean\n",
        "np.std(a2)"
      ]
    },
    {
      "cell_type": "code",
      "execution_count": null,
      "metadata": {
        "scrolled": true,
        "id": "E4jxZoPQEapw",
        "outputId": "ff8075e1-765b-41b0-bc01-8f15464c342f"
      },
      "outputs": [
        {
          "data": {
            "text/plain": [
              "3.3222222222222224"
            ]
          },
          "execution_count": 209,
          "metadata": {},
          "output_type": "execute_result"
        }
      ],
      "source": [
        "# Variance = measure of the average degree to which each number is different to the mean\n",
        "# Higher variance = wider range of numbers\n",
        "# Lower variance = lower range of numbers\n",
        "np.var(a2)"
      ]
    },
    {
      "cell_type": "code",
      "execution_count": null,
      "metadata": {
        "id": "Pkch4BFAEapw",
        "outputId": "932fb7db-c792-46eb-d93e-e7d3481e585d"
      },
      "outputs": [
        {
          "data": {
            "text/plain": [
              "1.8226964152656422"
            ]
          },
          "execution_count": 210,
          "metadata": {},
          "output_type": "execute_result"
        }
      ],
      "source": [
        "# Standard deviation = squareroot of variance\n",
        "np.sqrt(np.var(a2))"
      ]
    },
    {
      "cell_type": "code",
      "execution_count": null,
      "metadata": {
        "id": "AS0GMk2cEapx"
      },
      "outputs": [],
      "source": [
        "# Demo of std and var\n",
        "high_var_array = np.array([1, 100, 200, 300, 4000, 5000])\n",
        "low_var_array = np.array([2, 4, 6, 8, 10])"
      ]
    },
    {
      "cell_type": "code",
      "execution_count": null,
      "metadata": {
        "id": "XmhSZRz_Eapx",
        "outputId": "71645f01-e7e9-45e4-c74c-45c4fd97fb88"
      },
      "outputs": [
        {
          "data": {
            "text/plain": [
              "(4296133.472222221, 8.0)"
            ]
          },
          "execution_count": 212,
          "metadata": {},
          "output_type": "execute_result"
        }
      ],
      "source": [
        "np.var(high_var_array), np.var(low_var_array)"
      ]
    },
    {
      "cell_type": "code",
      "execution_count": null,
      "metadata": {
        "id": "Y7YGpJA2Eapx",
        "outputId": "cf97163a-0cbe-4d35-b9d4-7ceed54e4853"
      },
      "outputs": [
        {
          "data": {
            "text/plain": [
              "(2072.711623024829, 2.8284271247461903)"
            ]
          },
          "execution_count": 213,
          "metadata": {},
          "output_type": "execute_result"
        }
      ],
      "source": [
        "np.std(high_var_array), np.std(low_var_array)"
      ]
    },
    {
      "cell_type": "code",
      "execution_count": null,
      "metadata": {
        "id": "FEiC7c30Eapy",
        "outputId": "63d6c375-0ebc-4d2c-bc9b-79ecf6aa539f"
      },
      "outputs": [
        {
          "data": {
            "text/plain": [
              "(1600.1666666666667, 6.0)"
            ]
          },
          "execution_count": 215,
          "metadata": {},
          "output_type": "execute_result"
        }
      ],
      "source": [
        "np.mean(high_var_array), np.mean(low_var_array)"
      ]
    },
    {
      "cell_type": "code",
      "execution_count": null,
      "metadata": {
        "id": "vzan3xp5Eap0",
        "outputId": "84ffdb3a-066c-445e-91c6-e686fda00f37"
      },
      "outputs": [
        {
          "data": {
            "image/png": "[encoded data removed]",
            "text/plain": [
              "<Figure size 432x288 with 1 Axes>"
            ]
          },
          "metadata": {
            "needs_background": "light"
          },
          "output_type": "display_data"
        }
      ],
      "source": [
        "%matplotlib inline\n",
        "import matplotlib.pyplot as plt\n",
        "plt.hist(high_var_array)\n",
        "plt.show()"
      ]
    },
    {
      "cell_type": "code",
      "execution_count": null,
      "metadata": {
        "id": "qNMtF6XOEap1",
        "outputId": "6a00d669-a088-4487-a042-35d334ffdd12"
      },
      "outputs": [
        {
          "data": {
            "image/png": "[encoded data removed]",
            "text/plain": [
              "<Figure size 432x288 with 1 Axes>"
            ]
          },
          "metadata": {
            "needs_background": "light"
          },
          "output_type": "display_data"
        }
      ],
      "source": [
        "plt.hist(low_var_array)\n",
        "plt.show()"
      ]
    },
    {
      "cell_type": "markdown",
      "metadata": {
        "id": "lWb89Xp8Eap2"
      },
      "source": [
        "### Reshaping & transposing"
      ]
    },
    {
      "cell_type": "code",
      "execution_count": null,
      "metadata": {
        "id": "r7t0KFwZEap2",
        "outputId": "bd142bee-adf0-4b13-c44c-aba244a6a029"
      },
      "outputs": [
        {
          "data": {
            "text/plain": [
              "array([[1. , 2. , 3.3],\n",
              "       [4. , 5. , 6.5]])"
            ]
          },
          "execution_count": 220,
          "metadata": {},
          "output_type": "execute_result"
        }
      ],
      "source": [
        "a2"
      ]
    },
    {
      "cell_type": "code",
      "execution_count": null,
      "metadata": {
        "id": "VyQ6wmY-Eap2",
        "outputId": "1745e83c-6bc5-4da4-8608-f6c7ab124904"
      },
      "outputs": [
        {
          "data": {
            "text/plain": [
              "(2, 3)"
            ]
          },
          "execution_count": 221,
          "metadata": {},
          "output_type": "execute_result"
        }
      ],
      "source": [
        "a2.shape"
      ]
    },
    {
      "cell_type": "code",
      "execution_count": null,
      "metadata": {
        "id": "jR7tcZPLEap2",
        "outputId": "81fec113-472f-4842-bce7-593bb783e9eb"
      },
      "outputs": [
        {
          "data": {
            "text/plain": [
              "array([[[ 1,  2,  3],\n",
              "        [ 4,  5,  6],\n",
              "        [ 7,  8,  9]],\n",
              "\n",
              "       [[10, 11, 12],\n",
              "        [13, 14, 15],\n",
              "        [16, 17, 18]]])"
            ]
          },
          "execution_count": 222,
          "metadata": {},
          "output_type": "execute_result"
        }
      ],
      "source": [
        "a3"
      ]
    },
    {
      "cell_type": "code",
      "execution_count": null,
      "metadata": {
        "id": "Da6dnFNrEap3",
        "outputId": "cc1c8088-3389-40f3-a332-df430a0cba23"
      },
      "outputs": [
        {
          "data": {
            "text/plain": [
              "(2, 3, 3)"
            ]
          },
          "execution_count": 223,
          "metadata": {},
          "output_type": "execute_result"
        }
      ],
      "source": [
        "a3.shape"
      ]
    },
    {
      "cell_type": "code",
      "execution_count": null,
      "metadata": {
        "id": "6vWiJFnkEap3",
        "outputId": "7b8828fe-c9b4-44cc-a383-40f729a76e3f"
      },
      "outputs": [
        {
          "ename": "ValueError",
          "evalue": "operands could not be broadcast together with shapes (2,3) (2,3,3) ",
          "output_type": "error",
          "traceback": [
            "\u001b[0;31m---------------------------------------------------------------------------\u001b[0m",
            "\u001b[0;31mValueError\u001b[0m                                Traceback (most recent call last)",
            "\u001b[0;32m<ipython-input-224-37d8620f1b2c>\u001b[0m in \u001b[0;36m<module>\u001b[0;34m\u001b[0m\n\u001b[0;32m----> 1\u001b[0;31m \u001b[0ma2\u001b[0m \u001b[0;34m*\u001b[0m \u001b[0ma3\u001b[0m\u001b[0;34m\u001b[0m\u001b[0;34m\u001b[0m\u001b[0m\n\u001b[0m",
            "\u001b[0;31mValueError\u001b[0m: operands could not be broadcast together with shapes (2,3) (2,3,3) "
          ]
        }
      ],
      "source": [
        "a2 * a3"
      ]
    },
    {
      "cell_type": "code",
      "execution_count": null,
      "metadata": {
        "id": "5ztM1GeOEap3",
        "outputId": "e903b0cc-585c-423e-9ea4-18d3e5a238bd"
      },
      "outputs": [
        {
          "data": {
            "text/plain": [
              "(2, 3)"
            ]
          },
          "execution_count": 226,
          "metadata": {},
          "output_type": "execute_result"
        }
      ],
      "source": [
        "a2.shape"
      ]
    },
    {
      "cell_type": "code",
      "execution_count": null,
      "metadata": {
        "id": "jKZRQIg6Eap4",
        "outputId": "580d220d-23b6-438c-a52f-c99b3be8f177"
      },
      "outputs": [
        {
          "data": {
            "text/plain": [
              "(2, 3, 1)"
            ]
          },
          "execution_count": 228,
          "metadata": {},
          "output_type": "execute_result"
        }
      ],
      "source": [
        "a2.reshape(2, 3, 1).shape"
      ]
    },
    {
      "cell_type": "code",
      "execution_count": null,
      "metadata": {
        "id": "7FmrD0vNEap4",
        "outputId": "00fbed35-c107-4722-8eb1-bd715bffa75e"
      },
      "outputs": [
        {
          "data": {
            "text/plain": [
              "(2, 3, 3)"
            ]
          },
          "execution_count": 229,
          "metadata": {},
          "output_type": "execute_result"
        }
      ],
      "source": [
        "a3.shape"
      ]
    },
    {
      "cell_type": "code",
      "execution_count": null,
      "metadata": {
        "id": "zLJhy1jIEap5",
        "outputId": "84ba457a-764a-4a0b-f53e-3bff551cbe79"
      },
      "outputs": [
        {
          "data": {
            "text/plain": [
              "array([[[1. ],\n",
              "        [2. ],\n",
              "        [3.3]],\n",
              "\n",
              "       [[4. ],\n",
              "        [5. ],\n",
              "        [6.5]]])"
            ]
          },
          "execution_count": 244,
          "metadata": {},
          "output_type": "execute_result"
        }
      ],
      "source": [
        "a2_reshape = a2.reshape(2, 3, 1)\n",
        "a2_reshape"
      ]
    },
    {
      "cell_type": "code",
      "execution_count": null,
      "metadata": {
        "id": "KTMf0J5xEap5",
        "outputId": "30e1ef94-e7b6-47e0-827a-da746c10c08c"
      },
      "outputs": [
        {
          "data": {
            "text/plain": [
              "array([[[  1. ,   2. ,   3. ],\n",
              "        [  8. ,  10. ,  12. ],\n",
              "        [ 23.1,  26.4,  29.7]],\n",
              "\n",
              "       [[ 40. ,  44. ,  48. ],\n",
              "        [ 65. ,  70. ,  75. ],\n",
              "        [104. , 110.5, 117. ]]])"
            ]
          },
          "execution_count": 231,
          "metadata": {},
          "output_type": "execute_result"
        }
      ],
      "source": [
        "a2_reshape * a3"
      ]
    },
    {
      "cell_type": "code",
      "execution_count": null,
      "metadata": {
        "id": "QSFmyFH5Eap5",
        "outputId": "19b1dd8d-46e3-4548-f08d-affb62cde5d7"
      },
      "outputs": [
        {
          "data": {
            "text/plain": [
              "array([[1. , 2. , 3.3],\n",
              "       [4. , 5. , 6.5]])"
            ]
          },
          "execution_count": 233,
          "metadata": {},
          "output_type": "execute_result"
        }
      ],
      "source": [
        "a2"
      ]
    },
    {
      "cell_type": "code",
      "execution_count": null,
      "metadata": {
        "id": "uOsRKH0kEap6",
        "outputId": "16780c96-3f71-47f8-d17e-de084fb670bc"
      },
      "outputs": [
        {
          "data": {
            "text/plain": [
              "(2, 3)"
            ]
          },
          "execution_count": 235,
          "metadata": {},
          "output_type": "execute_result"
        }
      ],
      "source": [
        "a2.shape"
      ]
    },
    {
      "cell_type": "code",
      "execution_count": null,
      "metadata": {
        "id": "8glygDIhEap6",
        "outputId": "f42c6fe8-d841-4822-cfbf-c88c8c7c7113"
      },
      "outputs": [
        {
          "data": {
            "text/plain": [
              "array([[1. , 4. ],\n",
              "       [2. , 5. ],\n",
              "       [3.3, 6.5]])"
            ]
          },
          "execution_count": 232,
          "metadata": {},
          "output_type": "execute_result"
        }
      ],
      "source": [
        "# Transpose = switches the axis'\n",
        "a2.T"
      ]
    },
    {
      "cell_type": "code",
      "execution_count": null,
      "metadata": {
        "id": "V-_fO9RvEap6",
        "outputId": "ad720c53-a8ac-4720-d79e-b95cbc6a463c"
      },
      "outputs": [
        {
          "data": {
            "text/plain": [
              "(3, 2)"
            ]
          },
          "execution_count": 234,
          "metadata": {},
          "output_type": "execute_result"
        }
      ],
      "source": [
        "a2.T.shape"
      ]
    },
    {
      "cell_type": "code",
      "execution_count": null,
      "metadata": {
        "id": "Rzoix8u2Eap6",
        "outputId": "63abf615-d810-4800-8035-a2345d37e50b"
      },
      "outputs": [
        {
          "data": {
            "text/plain": [
              "array([[[ 1,  2,  3],\n",
              "        [ 4,  5,  6],\n",
              "        [ 7,  8,  9]],\n",
              "\n",
              "       [[10, 11, 12],\n",
              "        [13, 14, 15],\n",
              "        [16, 17, 18]]])"
            ]
          },
          "execution_count": 236,
          "metadata": {},
          "output_type": "execute_result"
        }
      ],
      "source": [
        "a3"
      ]
    },
    {
      "cell_type": "code",
      "execution_count": null,
      "metadata": {
        "id": "vjqZnZwmEap7",
        "outputId": "1d786201-9639-4a89-9f83-bad4347e974a"
      },
      "outputs": [
        {
          "data": {
            "text/plain": [
              "(2, 3, 3)"
            ]
          },
          "execution_count": 237,
          "metadata": {},
          "output_type": "execute_result"
        }
      ],
      "source": [
        "a3.shape"
      ]
    },
    {
      "cell_type": "code",
      "execution_count": null,
      "metadata": {
        "id": "8M4tG33eEap7",
        "outputId": "4916d548-1b29-46f7-9ccb-603fbdf3c37c"
      },
      "outputs": [
        {
          "data": {
            "text/plain": [
              "array([[[ 1, 10],\n",
              "        [ 4, 13],\n",
              "        [ 7, 16]],\n",
              "\n",
              "       [[ 2, 11],\n",
              "        [ 5, 14],\n",
              "        [ 8, 17]],\n",
              "\n",
              "       [[ 3, 12],\n",
              "        [ 6, 15],\n",
              "        [ 9, 18]]])"
            ]
          },
          "execution_count": 239,
          "metadata": {},
          "output_type": "execute_result"
        }
      ],
      "source": [
        "a3.T"
      ]
    },
    {
      "cell_type": "code",
      "execution_count": null,
      "metadata": {
        "id": "ZH4E8mIBEap8",
        "outputId": "6c58a4c4-a7a8-411e-cc49-75920bcaee39"
      },
      "outputs": [
        {
          "data": {
            "text/plain": [
              "(3, 3, 2)"
            ]
          },
          "execution_count": 240,
          "metadata": {},
          "output_type": "execute_result"
        }
      ],
      "source": [
        "a3.T.shape"
      ]
    },
    {
      "cell_type": "markdown",
      "metadata": {
        "id": "-8fQtw_SEap8"
      },
      "source": [
        "## Dot product"
      ]
    },
    {
      "cell_type": "code",
      "execution_count": null,
      "metadata": {
        "id": "yOcwC-PLEap8",
        "outputId": "06028421-8d87-4fc2-c6bf-aa6d7ac9c335"
      },
      "outputs": [
        {
          "data": {
            "text/plain": [
              "array([[5, 0, 3],\n",
              "       [3, 7, 9],\n",
              "       [3, 5, 2],\n",
              "       [4, 7, 6],\n",
              "       [8, 8, 1]])"
            ]
          },
          "execution_count": 256,
          "metadata": {},
          "output_type": "execute_result"
        }
      ],
      "source": [
        "np.random.seed(0)\n",
        "\n",
        "mat1 = np.random.randint(10, size=(5, 3))\n",
        "mat2 = np.random.randint(10, size=(5, 3))\n",
        "\n",
        "mat1"
      ]
    },
    {
      "cell_type": "code",
      "execution_count": null,
      "metadata": {
        "id": "aD7jyo5VEap8",
        "outputId": "70f9cd54-cd1f-4886-d81b-250e4ef674a5"
      },
      "outputs": [
        {
          "data": {
            "text/plain": [
              "array([[6, 7, 7],\n",
              "       [8, 1, 5],\n",
              "       [9, 8, 9],\n",
              "       [4, 3, 0],\n",
              "       [3, 5, 0]])"
            ]
          },
          "execution_count": 257,
          "metadata": {},
          "output_type": "execute_result"
        }
      ],
      "source": [
        "mat2"
      ]
    },
    {
      "cell_type": "code",
      "execution_count": null,
      "metadata": {
        "id": "tIzz-bVpEap9",
        "outputId": "1c41915b-8a76-485f-ec69-731d66362a7b"
      },
      "outputs": [
        {
          "data": {
            "text/plain": [
              "((5, 3), (5, 3))"
            ]
          },
          "execution_count": 258,
          "metadata": {},
          "output_type": "execute_result"
        }
      ],
      "source": [
        "mat1.shape, mat2.shape"
      ]
    },
    {
      "cell_type": "code",
      "execution_count": null,
      "metadata": {
        "id": "YY1fWmWyEap9",
        "outputId": "27d12c2e-d9b2-41e4-e987-05baa5595381"
      },
      "outputs": [
        {
          "data": {
            "text/plain": [
              "array([[5, 0, 3],\n",
              "       [3, 7, 9],\n",
              "       [3, 5, 2],\n",
              "       [4, 7, 6],\n",
              "       [8, 8, 1]])"
            ]
          },
          "execution_count": 260,
          "metadata": {},
          "output_type": "execute_result"
        }
      ],
      "source": [
        "mat1"
      ]
    },
    {
      "cell_type": "code",
      "execution_count": null,
      "metadata": {
        "id": "INtJcOavEap9",
        "outputId": "15b4dff2-4f0f-41ca-bce5-1f242f5a7de5"
      },
      "outputs": [
        {
          "data": {
            "text/plain": [
              "array([[6, 7, 7],\n",
              "       [8, 1, 5],\n",
              "       [9, 8, 9],\n",
              "       [4, 3, 0],\n",
              "       [3, 5, 0]])"
            ]
          },
          "execution_count": 261,
          "metadata": {},
          "output_type": "execute_result"
        }
      ],
      "source": [
        "mat2"
      ]
    },
    {
      "cell_type": "code",
      "execution_count": null,
      "metadata": {
        "id": "i4Xzu6ygEap9",
        "outputId": "a549f324-922a-454f-e98c-17a4473855dd"
      },
      "outputs": [
        {
          "data": {
            "text/plain": [
              "array([[30,  0, 21],\n",
              "       [24,  7, 45],\n",
              "       [27, 40, 18],\n",
              "       [16, 21,  0],\n",
              "       [24, 40,  0]])"
            ]
          },
          "execution_count": 259,
          "metadata": {},
          "output_type": "execute_result"
        }
      ],
      "source": [
        "# Element-wise multiplication (Hadamard product)\n",
        "mat1 * mat2"
      ]
    },
    {
      "cell_type": "code",
      "execution_count": null,
      "metadata": {
        "id": "ZxNAo_YFEap-",
        "outputId": "2629e02f-3bfe-45f8-fc22-e5f2163d6971"
      },
      "outputs": [
        {
          "ename": "ValueError",
          "evalue": "shapes (5,3) and (5,3) not aligned: 3 (dim 1) != 5 (dim 0)",
          "output_type": "error",
          "traceback": [
            "\u001b[0;31m---------------------------------------------------------------------------\u001b[0m",
            "\u001b[0;31mValueError\u001b[0m                                Traceback (most recent call last)",
            "\u001b[0;32m<ipython-input-262-0da3c94cc631>\u001b[0m in \u001b[0;36m<module>\u001b[0;34m\u001b[0m\n\u001b[1;32m      1\u001b[0m \u001b[0;31m# Dot product\u001b[0m\u001b[0;34m\u001b[0m\u001b[0;34m\u001b[0m\u001b[0;34m\u001b[0m\u001b[0m\n\u001b[0;32m----> 2\u001b[0;31m \u001b[0mnp\u001b[0m\u001b[0;34m.\u001b[0m\u001b[0mdot\u001b[0m\u001b[0;34m(\u001b[0m\u001b[0mmat1\u001b[0m\u001b[0;34m,\u001b[0m \u001b[0mmat2\u001b[0m\u001b[0;34m)\u001b[0m\u001b[0;34m\u001b[0m\u001b[0;34m\u001b[0m\u001b[0m\n\u001b[0m",
            "\u001b[0;32m<__array_function__ internals>\u001b[0m in \u001b[0;36mdot\u001b[0;34m(*args, **kwargs)\u001b[0m\n",
            "\u001b[0;31mValueError\u001b[0m: shapes (5,3) and (5,3) not aligned: 3 (dim 1) != 5 (dim 0)"
          ]
        }
      ],
      "source": [
        "# Dot product\n",
        "np.dot(mat1, mat2)"
      ]
    },
    {
      "cell_type": "code",
      "execution_count": null,
      "metadata": {
        "id": "zVa7tPDyEap-",
        "outputId": "6afc0e0a-49ed-44bb-af4e-502a45a774a2"
      },
      "outputs": [
        {
          "data": {
            "text/plain": [
              "array([[5, 3, 3, 4, 8],\n",
              "       [0, 7, 5, 7, 8],\n",
              "       [3, 9, 2, 6, 1]])"
            ]
          },
          "execution_count": 263,
          "metadata": {},
          "output_type": "execute_result"
        }
      ],
      "source": [
        "# Transpose mat1\n",
        "mat1.T"
      ]
    },
    {
      "cell_type": "code",
      "execution_count": null,
      "metadata": {
        "id": "qDecps2PEap-",
        "outputId": "546f6708-9fa7-4bbf-e914-fd6bdbc519b5"
      },
      "outputs": [
        {
          "data": {
            "text/plain": [
              "((5, 3), (3, 5))"
            ]
          },
          "execution_count": 266,
          "metadata": {},
          "output_type": "execute_result"
        }
      ],
      "source": [
        "mat1.shape, mat2.T.shape"
      ]
    },
    {
      "cell_type": "code",
      "execution_count": null,
      "metadata": {
        "id": "1mYoBgm3Eap_",
        "outputId": "e166fdb4-3a59-40f3-8cd5-d43a94121d73"
      },
      "outputs": [
        {
          "data": {
            "text/plain": [
              "array([[ 51,  55,  72,  20,  15],\n",
              "       [130,  76, 164,  33,  44],\n",
              "       [ 67,  39,  85,  27,  34],\n",
              "       [115,  69, 146,  37,  47],\n",
              "       [111,  77, 145,  56,  64]])"
            ]
          },
          "execution_count": 267,
          "metadata": {},
          "output_type": "execute_result"
        }
      ],
      "source": [
        "mat3 = np.dot(mat1, mat2.T)\n",
        "mat3"
      ]
    },
    {
      "cell_type": "code",
      "execution_count": null,
      "metadata": {
        "id": "DeNLxtgaEap_",
        "outputId": "567d5d29-741d-436b-c6f9-87e1f652aba6"
      },
      "outputs": [
        {
          "data": {
            "text/plain": [
              "(5, 5)"
            ]
          },
          "execution_count": 268,
          "metadata": {},
          "output_type": "execute_result"
        }
      ],
      "source": [
        "mat3.shape"
      ]
    },
    {
      "cell_type": "markdown",
      "metadata": {
        "id": "NdLJloK3Eap_"
      },
      "source": [
        "### Dot product exmaple (nut butter sales)"
      ]
    },
    {
      "cell_type": "code",
      "execution_count": null,
      "metadata": {
        "id": "T1JPPDtlEaqA",
        "outputId": "5015a004-b2a7-4ce4-cbc4-33c688d4dfe6"
      },
      "outputs": [
        {
          "data": {
            "text/plain": [
              "array([[12, 15,  0],\n",
              "       [ 3,  3,  7],\n",
              "       [ 9, 19, 18],\n",
              "       [ 4,  6, 12],\n",
              "       [ 1,  6,  7]])"
            ]
          },
          "execution_count": 269,
          "metadata": {},
          "output_type": "execute_result"
        }
      ],
      "source": [
        "np.random.seed(0)\n",
        "# Number of jars sold\n",
        "sales_amounts = np.random.randint(20, size=(5,3))\n",
        "sales_amounts"
      ]
    },
    {
      "cell_type": "code",
      "execution_count": null,
      "metadata": {
        "id": "_x1BMfMbEaqA",
        "outputId": "74612dd7-fd27-42e0-e3d9-3e28d3d7314f"
      },
      "outputs": [
        {
          "data": {
            "text/html": [
              "<div>\n",
              "<style scoped>\n",
              "    .dataframe tbody tr th:only-of-type {\n",
              "        vertical-align: middle;\n",
              "    }\n",
              "\n",
              "    .dataframe tbody tr th {\n",
              "        vertical-align: top;\n",
              "    }\n",
              "\n",
              "    .dataframe thead th {\n",
              "        text-align: right;\n",
              "    }\n",
              "</style>\n",
              "<table border=\"1\" class=\"dataframe\">\n",
              "  <thead>\n",
              "    <tr style=\"text-align: right;\">\n",
              "      <th></th>\n",
              "      <th>Almond butter</th>\n",
              "      <th>Peanut butter</th>\n",
              "      <th>Cashew butter</th>\n",
              "    </tr>\n",
              "  </thead>\n",
              "  <tbody>\n",
              "    <tr>\n",
              "      <td>Mon</td>\n",
              "      <td>12</td>\n",
              "      <td>15</td>\n",
              "      <td>0</td>\n",
              "    </tr>\n",
              "    <tr>\n",
              "      <td>Tues</td>\n",
              "      <td>3</td>\n",
              "      <td>3</td>\n",
              "      <td>7</td>\n",
              "    </tr>\n",
              "    <tr>\n",
              "      <td>Wed</td>\n",
              "      <td>9</td>\n",
              "      <td>19</td>\n",
              "      <td>18</td>\n",
              "    </tr>\n",
              "    <tr>\n",
              "      <td>Thurs</td>\n",
              "      <td>4</td>\n",
              "      <td>6</td>\n",
              "      <td>12</td>\n",
              "    </tr>\n",
              "    <tr>\n",
              "      <td>Fri</td>\n",
              "      <td>1</td>\n",
              "      <td>6</td>\n",
              "      <td>7</td>\n",
              "    </tr>\n",
              "  </tbody>\n",
              "</table>\n",
              "</div>"
            ],
            "text/plain": [
              "       Almond butter  Peanut butter  Cashew butter\n",
              "Mon               12             15              0\n",
              "Tues               3              3              7\n",
              "Wed                9             19             18\n",
              "Thurs              4              6             12\n",
              "Fri                1              6              7"
            ]
          },
          "execution_count": 270,
          "metadata": {},
          "output_type": "execute_result"
        }
      ],
      "source": [
        "# Create weekly_sales DataFrame\n",
        "weekly_sales = pd.DataFrame(sales_amounts,\n",
        "                            index=[\"Mon\", \"Tues\", \"Wed\", \"Thurs\", \"Fri\"],\n",
        "                            columns=[\"Almond butter\", \"Peanut butter\", \"Cashew butter\"])\n",
        "weekly_sales"
      ]
    },
    {
      "cell_type": "code",
      "execution_count": null,
      "metadata": {
        "id": "4VcTdWTtEaqA",
        "outputId": "21f31f08-64eb-4543-da81-4dc48fc86b36"
      },
      "outputs": [
        {
          "data": {
            "text/plain": [
              "array([10,  8, 12])"
            ]
          },
          "execution_count": 271,
          "metadata": {},
          "output_type": "execute_result"
        }
      ],
      "source": [
        "# Create prices array\n",
        "prices = np.array([10, 8, 12])\n",
        "prices"
      ]
    },
    {
      "cell_type": "code",
      "execution_count": null,
      "metadata": {
        "id": "l9qFT4LpEaqB",
        "outputId": "06e9b132-b169-4e43-f5f9-c650ac364ebc"
      },
      "outputs": [
        {
          "data": {
            "text/plain": [
              "(3,)"
            ]
          },
          "execution_count": 273,
          "metadata": {},
          "output_type": "execute_result"
        }
      ],
      "source": [
        "prices.shape"
      ]
    },
    {
      "cell_type": "code",
      "execution_count": null,
      "metadata": {
        "id": "vILEkAgOEaqC",
        "outputId": "d3c83705-cafe-47fb-9555-05d75cbc0b5a"
      },
      "outputs": [
        {
          "data": {
            "text/html": [
              "<div>\n",
              "<style scoped>\n",
              "    .dataframe tbody tr th:only-of-type {\n",
              "        vertical-align: middle;\n",
              "    }\n",
              "\n",
              "    .dataframe tbody tr th {\n",
              "        vertical-align: top;\n",
              "    }\n",
              "\n",
              "    .dataframe thead th {\n",
              "        text-align: right;\n",
              "    }\n",
              "</style>\n",
              "<table border=\"1\" class=\"dataframe\">\n",
              "  <thead>\n",
              "    <tr style=\"text-align: right;\">\n",
              "      <th></th>\n",
              "      <th>Almond butter</th>\n",
              "      <th>Peanut butter</th>\n",
              "      <th>Cashew butter</th>\n",
              "    </tr>\n",
              "  </thead>\n",
              "  <tbody>\n",
              "    <tr>\n",
              "      <td>Price</td>\n",
              "      <td>10</td>\n",
              "      <td>8</td>\n",
              "      <td>12</td>\n",
              "    </tr>\n",
              "  </tbody>\n",
              "</table>\n",
              "</div>"
            ],
            "text/plain": [
              "       Almond butter  Peanut butter  Cashew butter\n",
              "Price             10              8             12"
            ]
          },
          "execution_count": 274,
          "metadata": {},
          "output_type": "execute_result"
        }
      ],
      "source": [
        "# Create butter_prices DataFrame\n",
        "butter_prices = pd.DataFrame(prices.reshape(1, 3),\n",
        "                             index=[\"Price\"],\n",
        "                             columns=[\"Almond butter\", \"Peanut butter\", \"Cashew butter\"])\n",
        "butter_prices"
      ]
    },
    {
      "cell_type": "code",
      "execution_count": null,
      "metadata": {
        "id": "MDnLicsrEaqC",
        "outputId": "56d05825-01b2-4579-cb64-ce3af5b723c2"
      },
      "outputs": [
        {
          "data": {
            "text/plain": [
              "(3,)"
            ]
          },
          "execution_count": 279,
          "metadata": {},
          "output_type": "execute_result"
        }
      ],
      "source": [
        "prices.shape"
      ]
    },
    {
      "cell_type": "code",
      "execution_count": null,
      "metadata": {
        "id": "DurfKlZYEaqC",
        "outputId": "528e0c74-fa44-4cbd-dd81-c2a378ed7f62"
      },
      "outputs": [
        {
          "data": {
            "text/plain": [
              "(5, 3)"
            ]
          },
          "execution_count": 278,
          "metadata": {},
          "output_type": "execute_result"
        }
      ],
      "source": [
        "sales_amounts.shape"
      ]
    },
    {
      "cell_type": "code",
      "execution_count": null,
      "metadata": {
        "id": "qEysc58EEaqD",
        "outputId": "dfce443e-a322-473f-c8ac-daf642dbbded"
      },
      "outputs": [
        {
          "ename": "ValueError",
          "evalue": "shapes (3,) and (5,3) not aligned: 3 (dim 0) != 5 (dim 0)",
          "output_type": "error",
          "traceback": [
            "\u001b[0;31m---------------------------------------------------------------------------\u001b[0m",
            "\u001b[0;31mValueError\u001b[0m                                Traceback (most recent call last)",
            "\u001b[0;32m<ipython-input-276-e4058314ac09>\u001b[0m in \u001b[0;36m<module>\u001b[0;34m\u001b[0m\n\u001b[0;32m----> 1\u001b[0;31m \u001b[0mtotal_sales\u001b[0m \u001b[0;34m=\u001b[0m \u001b[0mprices\u001b[0m\u001b[0;34m.\u001b[0m\u001b[0mdot\u001b[0m\u001b[0;34m(\u001b[0m\u001b[0msales_amounts\u001b[0m\u001b[0;34m)\u001b[0m\u001b[0;34m\u001b[0m\u001b[0;34m\u001b[0m\u001b[0m\n\u001b[0m",
            "\u001b[0;31mValueError\u001b[0m: shapes (3,) and (5,3) not aligned: 3 (dim 0) != 5 (dim 0)"
          ]
        }
      ],
      "source": [
        "total_sales = prices.dot(sales_amounts)"
      ]
    },
    {
      "cell_type": "code",
      "execution_count": null,
      "metadata": {
        "id": "5R6S9fidEaqJ",
        "outputId": "4d3a3429-cc35-4b42-e2c8-566f00a83f55"
      },
      "outputs": [
        {
          "data": {
            "text/plain": [
              "array([240, 138, 458, 232, 142])"
            ]
          },
          "execution_count": 281,
          "metadata": {},
          "output_type": "execute_result"
        }
      ],
      "source": [
        "# Shape aren't aligned, let's transpose\n",
        "total_sales = prices.dot(sales_amounts.T)\n",
        "total_sales"
      ]
    },
    {
      "cell_type": "code",
      "execution_count": null,
      "metadata": {
        "id": "R3hIPSp5EaqK",
        "outputId": "062db265-3907-40e0-c3aa-60bd77e5140a"
      },
      "outputs": [
        {
          "data": {
            "text/plain": [
              "((1, 3), (5, 3))"
            ]
          },
          "execution_count": 284,
          "metadata": {},
          "output_type": "execute_result"
        }
      ],
      "source": [
        "# Create daily_sales\n",
        "butter_prices.shape, weekly_sales.shape"
      ]
    },
    {
      "cell_type": "code",
      "execution_count": null,
      "metadata": {
        "id": "DypthqUFEaqL",
        "outputId": "32e5219d-62bb-4171-dfba-b0fc81dc30f6"
      },
      "outputs": [
        {
          "data": {
            "text/plain": [
              "(3, 5)"
            ]
          },
          "execution_count": 286,
          "metadata": {},
          "output_type": "execute_result"
        }
      ],
      "source": [
        "weekly_sales.T.shape"
      ]
    },
    {
      "cell_type": "code",
      "execution_count": null,
      "metadata": {
        "id": "IpaiYkVoEaqM",
        "outputId": "3fbabfc9-a813-4322-982c-fddbed4866aa"
      },
      "outputs": [
        {
          "data": {
            "text/plain": [
              "(1, 5)"
            ]
          },
          "execution_count": 292,
          "metadata": {},
          "output_type": "execute_result"
        }
      ],
      "source": [
        "daily_sales = butter_prices.dot(weekly_sales.T)\n",
        "daily_sales.shape"
      ]
    },
    {
      "cell_type": "code",
      "execution_count": null,
      "metadata": {
        "id": "4ORbWetvEaqM",
        "outputId": "594999bc-c334-425d-f238-3afa16ee113a"
      },
      "outputs": [
        {
          "data": {
            "text/plain": [
              "(5, 3)"
            ]
          },
          "execution_count": 293,
          "metadata": {},
          "output_type": "execute_result"
        }
      ],
      "source": [
        "weekly_sales.shape"
      ]
    },
    {
      "cell_type": "code",
      "execution_count": null,
      "metadata": {
        "id": "lxAA2loeEaqN",
        "outputId": "c2f7510a-1899-4a6c-fda8-19accb62ff69"
      },
      "outputs": [
        {
          "data": {
            "text/html": [
              "<div>\n",
              "<style scoped>\n",
              "    .dataframe tbody tr th:only-of-type {\n",
              "        vertical-align: middle;\n",
              "    }\n",
              "\n",
              "    .dataframe tbody tr th {\n",
              "        vertical-align: top;\n",
              "    }\n",
              "\n",
              "    .dataframe thead th {\n",
              "        text-align: right;\n",
              "    }\n",
              "</style>\n",
              "<table border=\"1\" class=\"dataframe\">\n",
              "  <thead>\n",
              "    <tr style=\"text-align: right;\">\n",
              "      <th></th>\n",
              "      <th>Almond butter</th>\n",
              "      <th>Peanut butter</th>\n",
              "      <th>Cashew butter</th>\n",
              "    </tr>\n",
              "  </thead>\n",
              "  <tbody>\n",
              "    <tr>\n",
              "      <td>Mon</td>\n",
              "      <td>12</td>\n",
              "      <td>15</td>\n",
              "      <td>0</td>\n",
              "    </tr>\n",
              "    <tr>\n",
              "      <td>Tues</td>\n",
              "      <td>3</td>\n",
              "      <td>3</td>\n",
              "      <td>7</td>\n",
              "    </tr>\n",
              "    <tr>\n",
              "      <td>Wed</td>\n",
              "      <td>9</td>\n",
              "      <td>19</td>\n",
              "      <td>18</td>\n",
              "    </tr>\n",
              "    <tr>\n",
              "      <td>Thurs</td>\n",
              "      <td>4</td>\n",
              "      <td>6</td>\n",
              "      <td>12</td>\n",
              "    </tr>\n",
              "    <tr>\n",
              "      <td>Fri</td>\n",
              "      <td>1</td>\n",
              "      <td>6</td>\n",
              "      <td>7</td>\n",
              "    </tr>\n",
              "  </tbody>\n",
              "</table>\n",
              "</div>"
            ],
            "text/plain": [
              "       Almond butter  Peanut butter  Cashew butter\n",
              "Mon               12             15              0\n",
              "Tues               3              3              7\n",
              "Wed                9             19             18\n",
              "Thurs              4              6             12\n",
              "Fri                1              6              7"
            ]
          },
          "execution_count": 288,
          "metadata": {},
          "output_type": "execute_result"
        }
      ],
      "source": [
        "weekly_sales"
      ]
    },
    {
      "cell_type": "code",
      "execution_count": null,
      "metadata": {
        "id": "Vf-LJYBhEaqN",
        "outputId": "622a6665-01d9-48d0-c8b4-ab6e0d0fd901"
      },
      "outputs": [
        {
          "ename": "ValueError",
          "evalue": "Wrong number of items passed 5, placement implies 1",
          "output_type": "error",
          "traceback": [
            "\u001b[0;31m---------------------------------------------------------------------------\u001b[0m",
            "\u001b[0;31mKeyError\u001b[0m                                  Traceback (most recent call last)",
            "\u001b[0;32m~/Desktop/ml-course/sample-project/env/lib/python3.7/site-packages/pandas/core/indexes/base.py\u001b[0m in \u001b[0;36mget_loc\u001b[0;34m(self, key, method, tolerance)\u001b[0m\n\u001b[1;32m   2896\u001b[0m             \u001b[0;32mtry\u001b[0m\u001b[0;34m:\u001b[0m\u001b[0;34m\u001b[0m\u001b[0;34m\u001b[0m\u001b[0m\n\u001b[0;32m-> 2897\u001b[0;31m                 \u001b[0;32mreturn\u001b[0m \u001b[0mself\u001b[0m\u001b[0;34m.\u001b[0m\u001b[0m_engine\u001b[0m\u001b[0;34m.\u001b[0m\u001b[0mget_loc\u001b[0m\u001b[0;34m(\u001b[0m\u001b[0mkey\u001b[0m\u001b[0;34m)\u001b[0m\u001b[0;34m\u001b[0m\u001b[0;34m\u001b[0m\u001b[0m\n\u001b[0m\u001b[1;32m   2898\u001b[0m             \u001b[0;32mexcept\u001b[0m \u001b[0mKeyError\u001b[0m\u001b[0;34m:\u001b[0m\u001b[0;34m\u001b[0m\u001b[0;34m\u001b[0m\u001b[0m\n",
            "\u001b[0;32mpandas/_libs/index.pyx\u001b[0m in \u001b[0;36mpandas._libs.index.IndexEngine.get_loc\u001b[0;34m()\u001b[0m\n",
            "\u001b[0;32mpandas/_libs/index.pyx\u001b[0m in \u001b[0;36mpandas._libs.index.IndexEngine.get_loc\u001b[0;34m()\u001b[0m\n",
            "\u001b[0;32mpandas/_libs/hashtable_class_helper.pxi\u001b[0m in \u001b[0;36mpandas._libs.hashtable.PyObjectHashTable.get_item\u001b[0;34m()\u001b[0m\n",
            "\u001b[0;32mpandas/_libs/hashtable_class_helper.pxi\u001b[0m in \u001b[0;36mpandas._libs.hashtable.PyObjectHashTable.get_item\u001b[0;34m()\u001b[0m\n",
            "\u001b[0;31mKeyError\u001b[0m: 'Total ($)'",
            "\nDuring handling of the above exception, another exception occurred:\n",
            "\u001b[0;31mKeyError\u001b[0m                                  Traceback (most recent call last)",
            "\u001b[0;32m~/Desktop/ml-course/sample-project/env/lib/python3.7/site-packages/pandas/core/internals/managers.py\u001b[0m in \u001b[0;36mset\u001b[0;34m(self, item, value)\u001b[0m\n\u001b[1;32m   1068\u001b[0m         \u001b[0;32mtry\u001b[0m\u001b[0;34m:\u001b[0m\u001b[0;34m\u001b[0m\u001b[0;34m\u001b[0m\u001b[0m\n\u001b[0;32m-> 1069\u001b[0;31m             \u001b[0mloc\u001b[0m \u001b[0;34m=\u001b[0m \u001b[0mself\u001b[0m\u001b[0;34m.\u001b[0m\u001b[0mitems\u001b[0m\u001b[0;34m.\u001b[0m\u001b[0mget_loc\u001b[0m\u001b[0;34m(\u001b[0m\u001b[0mitem\u001b[0m\u001b[0;34m)\u001b[0m\u001b[0;34m\u001b[0m\u001b[0;34m\u001b[0m\u001b[0m\n\u001b[0m\u001b[1;32m   1070\u001b[0m         \u001b[0;32mexcept\u001b[0m \u001b[0mKeyError\u001b[0m\u001b[0;34m:\u001b[0m\u001b[0;34m\u001b[0m\u001b[0;34m\u001b[0m\u001b[0m\n",
            "\u001b[0;32m~/Desktop/ml-course/sample-project/env/lib/python3.7/site-packages/pandas/core/indexes/base.py\u001b[0m in \u001b[0;36mget_loc\u001b[0;34m(self, key, method, tolerance)\u001b[0m\n\u001b[1;32m   2898\u001b[0m             \u001b[0;32mexcept\u001b[0m \u001b[0mKeyError\u001b[0m\u001b[0;34m:\u001b[0m\u001b[0;34m\u001b[0m\u001b[0;34m\u001b[0m\u001b[0m\n\u001b[0;32m-> 2899\u001b[0;31m                 \u001b[0;32mreturn\u001b[0m \u001b[0mself\u001b[0m\u001b[0;34m.\u001b[0m\u001b[0m_engine\u001b[0m\u001b[0;34m.\u001b[0m\u001b[0mget_loc\u001b[0m\u001b[0;34m(\u001b[0m\u001b[0mself\u001b[0m\u001b[0;34m.\u001b[0m\u001b[0m_maybe_cast_indexer\u001b[0m\u001b[0;34m(\u001b[0m\u001b[0mkey\u001b[0m\u001b[0;34m)\u001b[0m\u001b[0;34m)\u001b[0m\u001b[0;34m\u001b[0m\u001b[0;34m\u001b[0m\u001b[0m\n\u001b[0m\u001b[1;32m   2900\u001b[0m         \u001b[0mindexer\u001b[0m \u001b[0;34m=\u001b[0m \u001b[0mself\u001b[0m\u001b[0;34m.\u001b[0m\u001b[0mget_indexer\u001b[0m\u001b[0;34m(\u001b[0m\u001b[0;34m[\u001b[0m\u001b[0mkey\u001b[0m\u001b[0;34m]\u001b[0m\u001b[0;34m,\u001b[0m \u001b[0mmethod\u001b[0m\u001b[0;34m=\u001b[0m\u001b[0mmethod\u001b[0m\u001b[0;34m,\u001b[0m \u001b[0mtolerance\u001b[0m\u001b[0;34m=\u001b[0m\u001b[0mtolerance\u001b[0m\u001b[0;34m)\u001b[0m\u001b[0;34m\u001b[0m\u001b[0;34m\u001b[0m\u001b[0m\n",
            "\u001b[0;32mpandas/_libs/index.pyx\u001b[0m in \u001b[0;36mpandas._libs.index.IndexEngine.get_loc\u001b[0;34m()\u001b[0m\n",
            "\u001b[0;32mpandas/_libs/index.pyx\u001b[0m in \u001b[0;36mpandas._libs.index.IndexEngine.get_loc\u001b[0;34m()\u001b[0m\n",
            "\u001b[0;32mpandas/_libs/hashtable_class_helper.pxi\u001b[0m in \u001b[0;36mpandas._libs.hashtable.PyObjectHashTable.get_item\u001b[0;34m()\u001b[0m\n",
            "\u001b[0;32mpandas/_libs/hashtable_class_helper.pxi\u001b[0m in \u001b[0;36mpandas._libs.hashtable.PyObjectHashTable.get_item\u001b[0;34m()\u001b[0m\n",
            "\u001b[0;31mKeyError\u001b[0m: 'Total ($)'",
            "\nDuring handling of the above exception, another exception occurred:\n",
            "\u001b[0;31mValueError\u001b[0m                                Traceback (most recent call last)",
            "\u001b[0;32m<ipython-input-291-d761693dcb57>\u001b[0m in \u001b[0;36m<module>\u001b[0;34m\u001b[0m\n\u001b[0;32m----> 1\u001b[0;31m \u001b[0mweekly_sales\u001b[0m\u001b[0;34m[\u001b[0m\u001b[0;34m\"Total ($)\"\u001b[0m\u001b[0;34m]\u001b[0m \u001b[0;34m=\u001b[0m \u001b[0mdaily_sales\u001b[0m\u001b[0;34m\u001b[0m\u001b[0;34m\u001b[0m\u001b[0m\n\u001b[0m\u001b[1;32m      2\u001b[0m \u001b[0mweekly_sales\u001b[0m\u001b[0;34m\u001b[0m\u001b[0;34m\u001b[0m\u001b[0m\n",
            "\u001b[0;32m~/Desktop/ml-course/sample-project/env/lib/python3.7/site-packages/pandas/core/frame.py\u001b[0m in \u001b[0;36m__setitem__\u001b[0;34m(self, key, value)\u001b[0m\n\u001b[1;32m   3470\u001b[0m         \u001b[0;32melse\u001b[0m\u001b[0;34m:\u001b[0m\u001b[0;34m\u001b[0m\u001b[0;34m\u001b[0m\u001b[0m\n\u001b[1;32m   3471\u001b[0m             \u001b[0;31m# set column\u001b[0m\u001b[0;34m\u001b[0m\u001b[0;34m\u001b[0m\u001b[0;34m\u001b[0m\u001b[0m\n\u001b[0;32m-> 3472\u001b[0;31m             \u001b[0mself\u001b[0m\u001b[0;34m.\u001b[0m\u001b[0m_set_item\u001b[0m\u001b[0;34m(\u001b[0m\u001b[0mkey\u001b[0m\u001b[0;34m,\u001b[0m \u001b[0mvalue\u001b[0m\u001b[0;34m)\u001b[0m\u001b[0;34m\u001b[0m\u001b[0;34m\u001b[0m\u001b[0m\n\u001b[0m\u001b[1;32m   3473\u001b[0m \u001b[0;34m\u001b[0m\u001b[0m\n\u001b[1;32m   3474\u001b[0m     \u001b[0;32mdef\u001b[0m \u001b[0m_setitem_slice\u001b[0m\u001b[0;34m(\u001b[0m\u001b[0mself\u001b[0m\u001b[0;34m,\u001b[0m \u001b[0mkey\u001b[0m\u001b[0;34m,\u001b[0m \u001b[0mvalue\u001b[0m\u001b[0;34m)\u001b[0m\u001b[0;34m:\u001b[0m\u001b[0;34m\u001b[0m\u001b[0;34m\u001b[0m\u001b[0m\n",
            "\u001b[0;32m~/Desktop/ml-course/sample-project/env/lib/python3.7/site-packages/pandas/core/frame.py\u001b[0m in \u001b[0;36m_set_item\u001b[0;34m(self, key, value)\u001b[0m\n\u001b[1;32m   3548\u001b[0m         \u001b[0mself\u001b[0m\u001b[0;34m.\u001b[0m\u001b[0m_ensure_valid_index\u001b[0m\u001b[0;34m(\u001b[0m\u001b[0mvalue\u001b[0m\u001b[0;34m)\u001b[0m\u001b[0;34m\u001b[0m\u001b[0;34m\u001b[0m\u001b[0m\n\u001b[1;32m   3549\u001b[0m         \u001b[0mvalue\u001b[0m \u001b[0;34m=\u001b[0m \u001b[0mself\u001b[0m\u001b[0;34m.\u001b[0m\u001b[0m_sanitize_column\u001b[0m\u001b[0;34m(\u001b[0m\u001b[0mkey\u001b[0m\u001b[0;34m,\u001b[0m \u001b[0mvalue\u001b[0m\u001b[0;34m)\u001b[0m\u001b[0;34m\u001b[0m\u001b[0;34m\u001b[0m\u001b[0m\n\u001b[0;32m-> 3550\u001b[0;31m         \u001b[0mNDFrame\u001b[0m\u001b[0;34m.\u001b[0m\u001b[0m_set_item\u001b[0m\u001b[0;34m(\u001b[0m\u001b[0mself\u001b[0m\u001b[0;34m,\u001b[0m \u001b[0mkey\u001b[0m\u001b[0;34m,\u001b[0m \u001b[0mvalue\u001b[0m\u001b[0;34m)\u001b[0m\u001b[0;34m\u001b[0m\u001b[0;34m\u001b[0m\u001b[0m\n\u001b[0m\u001b[1;32m   3551\u001b[0m \u001b[0;34m\u001b[0m\u001b[0m\n\u001b[1;32m   3552\u001b[0m         \u001b[0;31m# check if we are modifying a copy\u001b[0m\u001b[0;34m\u001b[0m\u001b[0;34m\u001b[0m\u001b[0;34m\u001b[0m\u001b[0m\n",
            "\u001b[0;32m~/Desktop/ml-course/sample-project/env/lib/python3.7/site-packages/pandas/core/generic.py\u001b[0m in \u001b[0;36m_set_item\u001b[0;34m(self, key, value)\u001b[0m\n\u001b[1;32m   3379\u001b[0m \u001b[0;34m\u001b[0m\u001b[0m\n\u001b[1;32m   3380\u001b[0m     \u001b[0;32mdef\u001b[0m \u001b[0m_set_item\u001b[0m\u001b[0;34m(\u001b[0m\u001b[0mself\u001b[0m\u001b[0;34m,\u001b[0m \u001b[0mkey\u001b[0m\u001b[0;34m,\u001b[0m \u001b[0mvalue\u001b[0m\u001b[0;34m)\u001b[0m\u001b[0;34m:\u001b[0m\u001b[0;34m\u001b[0m\u001b[0;34m\u001b[0m\u001b[0m\n\u001b[0;32m-> 3381\u001b[0;31m         \u001b[0mself\u001b[0m\u001b[0;34m.\u001b[0m\u001b[0m_data\u001b[0m\u001b[0;34m.\u001b[0m\u001b[0mset\u001b[0m\u001b[0;34m(\u001b[0m\u001b[0mkey\u001b[0m\u001b[0;34m,\u001b[0m \u001b[0mvalue\u001b[0m\u001b[0;34m)\u001b[0m\u001b[0;34m\u001b[0m\u001b[0;34m\u001b[0m\u001b[0m\n\u001b[0m\u001b[1;32m   3382\u001b[0m         \u001b[0mself\u001b[0m\u001b[0;34m.\u001b[0m\u001b[0m_clear_item_cache\u001b[0m\u001b[0;34m(\u001b[0m\u001b[0;34m)\u001b[0m\u001b[0;34m\u001b[0m\u001b[0;34m\u001b[0m\u001b[0m\n\u001b[1;32m   3383\u001b[0m \u001b[0;34m\u001b[0m\u001b[0m\n",
            "\u001b[0;32m~/Desktop/ml-course/sample-project/env/lib/python3.7/site-packages/pandas/core/internals/managers.py\u001b[0m in \u001b[0;36mset\u001b[0;34m(self, item, value)\u001b[0m\n\u001b[1;32m   1070\u001b[0m         \u001b[0;32mexcept\u001b[0m \u001b[0mKeyError\u001b[0m\u001b[0;34m:\u001b[0m\u001b[0;34m\u001b[0m\u001b[0;34m\u001b[0m\u001b[0m\n\u001b[1;32m   1071\u001b[0m             \u001b[0;31m# This item wasn't present, just insert at end\u001b[0m\u001b[0;34m\u001b[0m\u001b[0;34m\u001b[0m\u001b[0;34m\u001b[0m\u001b[0m\n\u001b[0;32m-> 1072\u001b[0;31m             \u001b[0mself\u001b[0m\u001b[0;34m.\u001b[0m\u001b[0minsert\u001b[0m\u001b[0;34m(\u001b[0m\u001b[0mlen\u001b[0m\u001b[0;34m(\u001b[0m\u001b[0mself\u001b[0m\u001b[0;34m.\u001b[0m\u001b[0mitems\u001b[0m\u001b[0;34m)\u001b[0m\u001b[0;34m,\u001b[0m \u001b[0mitem\u001b[0m\u001b[0;34m,\u001b[0m \u001b[0mvalue\u001b[0m\u001b[0;34m)\u001b[0m\u001b[0;34m\u001b[0m\u001b[0;34m\u001b[0m\u001b[0m\n\u001b[0m\u001b[1;32m   1073\u001b[0m             \u001b[0;32mreturn\u001b[0m\u001b[0;34m\u001b[0m\u001b[0;34m\u001b[0m\u001b[0m\n\u001b[1;32m   1074\u001b[0m \u001b[0;34m\u001b[0m\u001b[0m\n",
            "\u001b[0;32m~/Desktop/ml-course/sample-project/env/lib/python3.7/site-packages/pandas/core/internals/managers.py\u001b[0m in \u001b[0;36minsert\u001b[0;34m(self, loc, item, value, allow_duplicates)\u001b[0m\n\u001b[1;32m   1179\u001b[0m         \u001b[0mnew_axis\u001b[0m \u001b[0;34m=\u001b[0m \u001b[0mself\u001b[0m\u001b[0;34m.\u001b[0m\u001b[0mitems\u001b[0m\u001b[0;34m.\u001b[0m\u001b[0minsert\u001b[0m\u001b[0;34m(\u001b[0m\u001b[0mloc\u001b[0m\u001b[0;34m,\u001b[0m \u001b[0mitem\u001b[0m\u001b[0;34m)\u001b[0m\u001b[0;34m\u001b[0m\u001b[0;34m\u001b[0m\u001b[0m\n\u001b[1;32m   1180\u001b[0m \u001b[0;34m\u001b[0m\u001b[0m\n\u001b[0;32m-> 1181\u001b[0;31m         \u001b[0mblock\u001b[0m \u001b[0;34m=\u001b[0m \u001b[0mmake_block\u001b[0m\u001b[0;34m(\u001b[0m\u001b[0mvalues\u001b[0m\u001b[0;34m=\u001b[0m\u001b[0mvalue\u001b[0m\u001b[0;34m,\u001b[0m \u001b[0mndim\u001b[0m\u001b[0;34m=\u001b[0m\u001b[0mself\u001b[0m\u001b[0;34m.\u001b[0m\u001b[0mndim\u001b[0m\u001b[0;34m,\u001b[0m \u001b[0mplacement\u001b[0m\u001b[0;34m=\u001b[0m\u001b[0mslice\u001b[0m\u001b[0;34m(\u001b[0m\u001b[0mloc\u001b[0m\u001b[0;34m,\u001b[0m \u001b[0mloc\u001b[0m \u001b[0;34m+\u001b[0m \u001b[0;36m1\u001b[0m\u001b[0;34m)\u001b[0m\u001b[0;34m)\u001b[0m\u001b[0;34m\u001b[0m\u001b[0;34m\u001b[0m\u001b[0m\n\u001b[0m\u001b[1;32m   1182\u001b[0m \u001b[0;34m\u001b[0m\u001b[0m\n\u001b[1;32m   1183\u001b[0m         \u001b[0;32mfor\u001b[0m \u001b[0mblkno\u001b[0m\u001b[0;34m,\u001b[0m \u001b[0mcount\u001b[0m \u001b[0;32min\u001b[0m \u001b[0m_fast_count_smallints\u001b[0m\u001b[0;34m(\u001b[0m\u001b[0mself\u001b[0m\u001b[0;34m.\u001b[0m\u001b[0m_blknos\u001b[0m\u001b[0;34m[\u001b[0m\u001b[0mloc\u001b[0m\u001b[0;34m:\u001b[0m\u001b[0;34m]\u001b[0m\u001b[0;34m)\u001b[0m\u001b[0;34m:\u001b[0m\u001b[0;34m\u001b[0m\u001b[0;34m\u001b[0m\u001b[0m\n",
            "\u001b[0;32m~/Desktop/ml-course/sample-project/env/lib/python3.7/site-packages/pandas/core/internals/blocks.py\u001b[0m in \u001b[0;36mmake_block\u001b[0;34m(values, placement, klass, ndim, dtype, fastpath)\u001b[0m\n\u001b[1;32m   3265\u001b[0m         \u001b[0mvalues\u001b[0m \u001b[0;34m=\u001b[0m \u001b[0mDatetimeArray\u001b[0m\u001b[0;34m.\u001b[0m\u001b[0m_simple_new\u001b[0m\u001b[0;34m(\u001b[0m\u001b[0mvalues\u001b[0m\u001b[0;34m,\u001b[0m \u001b[0mdtype\u001b[0m\u001b[0;34m=\u001b[0m\u001b[0mdtype\u001b[0m\u001b[0;34m)\u001b[0m\u001b[0;34m\u001b[0m\u001b[0;34m\u001b[0m\u001b[0m\n\u001b[1;32m   3266\u001b[0m \u001b[0;34m\u001b[0m\u001b[0m\n\u001b[0;32m-> 3267\u001b[0;31m     \u001b[0;32mreturn\u001b[0m \u001b[0mklass\u001b[0m\u001b[0;34m(\u001b[0m\u001b[0mvalues\u001b[0m\u001b[0;34m,\u001b[0m \u001b[0mndim\u001b[0m\u001b[0;34m=\u001b[0m\u001b[0mndim\u001b[0m\u001b[0;34m,\u001b[0m \u001b[0mplacement\u001b[0m\u001b[0;34m=\u001b[0m\u001b[0mplacement\u001b[0m\u001b[0;34m)\u001b[0m\u001b[0;34m\u001b[0m\u001b[0;34m\u001b[0m\u001b[0m\n\u001b[0m\u001b[1;32m   3268\u001b[0m \u001b[0;34m\u001b[0m\u001b[0m\n\u001b[1;32m   3269\u001b[0m \u001b[0;34m\u001b[0m\u001b[0m\n",
            "\u001b[0;32m~/Desktop/ml-course/sample-project/env/lib/python3.7/site-packages/pandas/core/internals/blocks.py\u001b[0m in \u001b[0;36m__init__\u001b[0;34m(self, values, placement, ndim)\u001b[0m\n\u001b[1;32m    126\u001b[0m             raise ValueError(\n\u001b[1;32m    127\u001b[0m                 \u001b[0;34m\"Wrong number of items passed {val}, placement implies \"\u001b[0m\u001b[0;34m\u001b[0m\u001b[0;34m\u001b[0m\u001b[0m\n\u001b[0;32m--> 128\u001b[0;31m                 \u001b[0;34m\"{mgr}\"\u001b[0m\u001b[0;34m.\u001b[0m\u001b[0mformat\u001b[0m\u001b[0;34m(\u001b[0m\u001b[0mval\u001b[0m\u001b[0;34m=\u001b[0m\u001b[0mlen\u001b[0m\u001b[0;34m(\u001b[0m\u001b[0mself\u001b[0m\u001b[0;34m.\u001b[0m\u001b[0mvalues\u001b[0m\u001b[0;34m)\u001b[0m\u001b[0;34m,\u001b[0m \u001b[0mmgr\u001b[0m\u001b[0;34m=\u001b[0m\u001b[0mlen\u001b[0m\u001b[0;34m(\u001b[0m\u001b[0mself\u001b[0m\u001b[0;34m.\u001b[0m\u001b[0mmgr_locs\u001b[0m\u001b[0;34m)\u001b[0m\u001b[0;34m)\u001b[0m\u001b[0;34m\u001b[0m\u001b[0;34m\u001b[0m\u001b[0m\n\u001b[0m\u001b[1;32m    129\u001b[0m             )\n\u001b[1;32m    130\u001b[0m \u001b[0;34m\u001b[0m\u001b[0m\n",
            "\u001b[0;31mValueError\u001b[0m: Wrong number of items passed 5, placement implies 1"
          ]
        }
      ],
      "source": [
        "# Doesn't work, not the right shape\n",
        "weekly_sales[\"Total ($)\"] = daily_sales\n",
        "weekly_sales"
      ]
    },
    {
      "cell_type": "code",
      "execution_count": null,
      "metadata": {
        "id": "jh-NsIs-EaqO",
        "outputId": "fb1d8901-6c14-4d70-a467-792c9eecde81"
      },
      "outputs": [
        {
          "data": {
            "text/html": [
              "<div>\n",
              "<style scoped>\n",
              "    .dataframe tbody tr th:only-of-type {\n",
              "        vertical-align: middle;\n",
              "    }\n",
              "\n",
              "    .dataframe tbody tr th {\n",
              "        vertical-align: top;\n",
              "    }\n",
              "\n",
              "    .dataframe thead th {\n",
              "        text-align: right;\n",
              "    }\n",
              "</style>\n",
              "<table border=\"1\" class=\"dataframe\">\n",
              "  <thead>\n",
              "    <tr style=\"text-align: right;\">\n",
              "      <th></th>\n",
              "      <th>Almond butter</th>\n",
              "      <th>Peanut butter</th>\n",
              "      <th>Cashew butter</th>\n",
              "      <th>Total ($)</th>\n",
              "    </tr>\n",
              "  </thead>\n",
              "  <tbody>\n",
              "    <tr>\n",
              "      <td>Mon</td>\n",
              "      <td>12</td>\n",
              "      <td>15</td>\n",
              "      <td>0</td>\n",
              "      <td>240</td>\n",
              "    </tr>\n",
              "    <tr>\n",
              "      <td>Tues</td>\n",
              "      <td>3</td>\n",
              "      <td>3</td>\n",
              "      <td>7</td>\n",
              "      <td>138</td>\n",
              "    </tr>\n",
              "    <tr>\n",
              "      <td>Wed</td>\n",
              "      <td>9</td>\n",
              "      <td>19</td>\n",
              "      <td>18</td>\n",
              "      <td>458</td>\n",
              "    </tr>\n",
              "    <tr>\n",
              "      <td>Thurs</td>\n",
              "      <td>4</td>\n",
              "      <td>6</td>\n",
              "      <td>12</td>\n",
              "      <td>232</td>\n",
              "    </tr>\n",
              "    <tr>\n",
              "      <td>Fri</td>\n",
              "      <td>1</td>\n",
              "      <td>6</td>\n",
              "      <td>7</td>\n",
              "      <td>142</td>\n",
              "    </tr>\n",
              "  </tbody>\n",
              "</table>\n",
              "</div>"
            ],
            "text/plain": [
              "       Almond butter  Peanut butter  Cashew butter  Total ($)\n",
              "Mon               12             15              0        240\n",
              "Tues               3              3              7        138\n",
              "Wed                9             19             18        458\n",
              "Thurs              4              6             12        232\n",
              "Fri                1              6              7        142"
            ]
          },
          "execution_count": 294,
          "metadata": {},
          "output_type": "execute_result"
        }
      ],
      "source": [
        "weekly_sales[\"Total ($)\"] = daily_sales.T\n",
        "weekly_sales"
      ]
    },
    {
      "cell_type": "markdown",
      "metadata": {
        "id": "2UjDA4xGEaqP"
      },
      "source": [
        "### Comparison Operators"
      ]
    },
    {
      "cell_type": "code",
      "execution_count": null,
      "metadata": {
        "id": "BpNI141fEaqQ",
        "outputId": "0eb85a34-1c70-4d39-e247-bf2e1fc1d447"
      },
      "outputs": [
        {
          "data": {
            "text/plain": [
              "array([1, 2, 3])"
            ]
          },
          "execution_count": 295,
          "metadata": {},
          "output_type": "execute_result"
        }
      ],
      "source": [
        "a1"
      ]
    },
    {
      "cell_type": "code",
      "execution_count": null,
      "metadata": {
        "id": "D7RngCZVEaqQ",
        "outputId": "bb70cff6-91e3-4506-82e6-2d862862290c"
      },
      "outputs": [
        {
          "data": {
            "text/plain": [
              "array([[1. , 2. , 3.3],\n",
              "       [4. , 5. , 6.5]])"
            ]
          },
          "execution_count": 296,
          "metadata": {},
          "output_type": "execute_result"
        }
      ],
      "source": [
        "a2"
      ]
    },
    {
      "cell_type": "code",
      "execution_count": null,
      "metadata": {
        "id": "laly-os9EaqQ",
        "outputId": "33906aed-84cb-4d9a-9f4d-00a7e9703e31"
      },
      "outputs": [
        {
          "data": {
            "text/plain": [
              "array([[False, False, False],\n",
              "       [False, False, False]])"
            ]
          },
          "execution_count": 297,
          "metadata": {},
          "output_type": "execute_result"
        }
      ],
      "source": [
        "a1 > a2"
      ]
    },
    {
      "cell_type": "code",
      "execution_count": null,
      "metadata": {
        "id": "3gaYDvPPEaqR",
        "outputId": "dc057b8d-27ec-40f8-d3cc-798706ae43df"
      },
      "outputs": [
        {
          "data": {
            "text/plain": [
              "array([[ True,  True, False],\n",
              "       [False, False, False]])"
            ]
          },
          "execution_count": 299,
          "metadata": {},
          "output_type": "execute_result"
        }
      ],
      "source": [
        "bool_array = a1 >= a2\n",
        "bool_array"
      ]
    },
    {
      "cell_type": "code",
      "execution_count": null,
      "metadata": {
        "id": "kpfHQyXNEaqR",
        "outputId": "b6f5cd90-b6a6-4013-b32b-ebf049aac188"
      },
      "outputs": [
        {
          "data": {
            "text/plain": [
              "(numpy.ndarray, dtype('bool'))"
            ]
          },
          "execution_count": 301,
          "metadata": {},
          "output_type": "execute_result"
        }
      ],
      "source": [
        "type(bool_array), bool_array.dtype"
      ]
    },
    {
      "cell_type": "code",
      "execution_count": null,
      "metadata": {
        "id": "8KyTri0jEaqR",
        "outputId": "bcf6d9f8-ebd1-45a4-e7e3-d1c591d1d982"
      },
      "outputs": [
        {
          "data": {
            "text/plain": [
              "array([False, False, False])"
            ]
          },
          "execution_count": 302,
          "metadata": {},
          "output_type": "execute_result"
        }
      ],
      "source": [
        "a1 > 5"
      ]
    },
    {
      "cell_type": "code",
      "execution_count": null,
      "metadata": {
        "id": "IAH2APWtEaqS",
        "outputId": "33a91aee-9e50-4eb3-b662-dc320132f967"
      },
      "outputs": [
        {
          "data": {
            "text/plain": [
              "array([ True,  True,  True])"
            ]
          },
          "execution_count": 303,
          "metadata": {},
          "output_type": "execute_result"
        }
      ],
      "source": [
        "a1 < 5"
      ]
    },
    {
      "cell_type": "code",
      "execution_count": null,
      "metadata": {
        "id": "i7XR9AJXEaqS",
        "outputId": "71499013-a05d-47e9-a714-b4c89a69b039"
      },
      "outputs": [
        {
          "data": {
            "text/plain": [
              "array([ True,  True,  True])"
            ]
          },
          "execution_count": 304,
          "metadata": {},
          "output_type": "execute_result"
        }
      ],
      "source": [
        "a1 == a1"
      ]
    },
    {
      "cell_type": "code",
      "execution_count": null,
      "metadata": {
        "id": "uipTVj7wEaqc",
        "outputId": "1c56dbd9-ee63-4dd7-8973-b43cf92a6595"
      },
      "outputs": [
        {
          "data": {
            "text/plain": [
              "array([1, 2, 3])"
            ]
          },
          "execution_count": 306,
          "metadata": {},
          "output_type": "execute_result"
        }
      ],
      "source": [
        "a1"
      ]
    },
    {
      "cell_type": "code",
      "execution_count": null,
      "metadata": {
        "id": "SzqmQvXGEaqd",
        "outputId": "6e8595a6-331f-40e0-825f-fc3ce5456398"
      },
      "outputs": [
        {
          "data": {
            "text/plain": [
              "array([[1. , 2. , 3.3],\n",
              "       [4. , 5. , 6.5]])"
            ]
          },
          "execution_count": 307,
          "metadata": {},
          "output_type": "execute_result"
        }
      ],
      "source": [
        "a2"
      ]
    },
    {
      "cell_type": "code",
      "execution_count": null,
      "metadata": {
        "id": "gmUxvrwqEaqd",
        "outputId": "38f7b699-fc08-4456-8a33-a06bf48bdb42"
      },
      "outputs": [
        {
          "data": {
            "text/plain": [
              "array([[ True,  True, False],\n",
              "       [False, False, False]])"
            ]
          },
          "execution_count": 305,
          "metadata": {},
          "output_type": "execute_result"
        }
      ],
      "source": [
        "a1 == a2"
      ]
    },
    {
      "cell_type": "markdown",
      "metadata": {
        "id": "5fzrvCNiEaqe"
      },
      "source": [
        "## 5. Sorting arrays"
      ]
    },
    {
      "cell_type": "code",
      "execution_count": null,
      "metadata": {
        "id": "HgmZBlC-Eaqe",
        "outputId": "830f7b07-0b54-49c3-e4bf-05498293984f"
      },
      "outputs": [
        {
          "data": {
            "text/plain": [
              "array([[7, 8, 1, 5, 9],\n",
              "       [8, 9, 4, 3, 0],\n",
              "       [3, 5, 0, 2, 3]])"
            ]
          },
          "execution_count": 310,
          "metadata": {},
          "output_type": "execute_result"
        }
      ],
      "source": [
        "random_array = np.random.randint(10, size=(3, 5))\n",
        "random_array"
      ]
    },
    {
      "cell_type": "code",
      "execution_count": null,
      "metadata": {
        "id": "0doKsEeAEaqg",
        "outputId": "48f79b48-bdd4-4160-9fed-b5d78233c880"
      },
      "outputs": [
        {
          "data": {
            "text/plain": [
              "(3, 5)"
            ]
          },
          "execution_count": 311,
          "metadata": {},
          "output_type": "execute_result"
        }
      ],
      "source": [
        "random_array.shape"
      ]
    },
    {
      "cell_type": "code",
      "execution_count": null,
      "metadata": {
        "id": "tCPUJAifEaqh",
        "outputId": "167e0e08-23e2-448a-d79f-2ea27b69d4e0"
      },
      "outputs": [
        {
          "data": {
            "text/plain": [
              "array([[1, 5, 7, 8, 9],\n",
              "       [0, 3, 4, 8, 9],\n",
              "       [0, 2, 3, 3, 5]])"
            ]
          },
          "execution_count": 312,
          "metadata": {},
          "output_type": "execute_result"
        }
      ],
      "source": [
        "np.sort(random_array)"
      ]
    },
    {
      "cell_type": "code",
      "execution_count": null,
      "metadata": {
        "id": "r_RBdcfdEaqh",
        "outputId": "b4d9e2d3-b7e9-4c53-edf8-effe64a18689"
      },
      "outputs": [
        {
          "data": {
            "text/plain": [
              "array([[7, 8, 1, 5, 9],\n",
              "       [8, 9, 4, 3, 0],\n",
              "       [3, 5, 0, 2, 3]])"
            ]
          },
          "execution_count": 314,
          "metadata": {},
          "output_type": "execute_result"
        }
      ],
      "source": [
        "random_array"
      ]
    },
    {
      "cell_type": "code",
      "execution_count": null,
      "metadata": {
        "id": "jN4CH5aREaqi",
        "outputId": "631cb06e-103a-4cdc-e518-c1528db525c9"
      },
      "outputs": [
        {
          "data": {
            "text/plain": [
              "array([[2, 3, 0, 1, 4],\n",
              "       [4, 3, 2, 0, 1],\n",
              "       [2, 3, 0, 4, 1]])"
            ]
          },
          "execution_count": 313,
          "metadata": {},
          "output_type": "execute_result"
        }
      ],
      "source": [
        "np.argsort(random_array)"
      ]
    },
    {
      "cell_type": "code",
      "execution_count": null,
      "metadata": {
        "id": "4umvJQetEaqi",
        "outputId": "e271bdfe-047a-4b5b-c3a9-44a6f32aa4a2"
      },
      "outputs": [
        {
          "data": {
            "text/plain": [
              "array([1, 2, 3])"
            ]
          },
          "execution_count": 315,
          "metadata": {},
          "output_type": "execute_result"
        }
      ],
      "source": [
        "a1"
      ]
    },
    {
      "cell_type": "code",
      "execution_count": null,
      "metadata": {
        "id": "XOPWDUJkEaqi",
        "outputId": "f11935ef-5662-4970-bec9-95a16190de8f"
      },
      "outputs": [
        {
          "data": {
            "text/plain": [
              "array([0, 1, 2])"
            ]
          },
          "execution_count": 316,
          "metadata": {},
          "output_type": "execute_result"
        }
      ],
      "source": [
        "np.argsort(a1)"
      ]
    },
    {
      "cell_type": "code",
      "execution_count": null,
      "metadata": {
        "id": "agBha2rMEaqj",
        "outputId": "0039c27a-0f7d-4a83-9c5b-3000ac3a4ebe"
      },
      "outputs": [
        {
          "data": {
            "text/plain": [
              "0"
            ]
          },
          "execution_count": 317,
          "metadata": {},
          "output_type": "execute_result"
        }
      ],
      "source": [
        "np.argmin(a1)"
      ]
    },
    {
      "cell_type": "code",
      "execution_count": null,
      "metadata": {
        "id": "RT40eMvNEaqj",
        "outputId": "0c05c8f0-954b-440c-9fb5-dde85546b031"
      },
      "outputs": [
        {
          "data": {
            "text/plain": [
              "2"
            ]
          },
          "execution_count": 318,
          "metadata": {},
          "output_type": "execute_result"
        }
      ],
      "source": [
        "np.argmax(a1)"
      ]
    },
    {
      "cell_type": "code",
      "execution_count": null,
      "metadata": {
        "id": "_J3QijcMEaqj",
        "outputId": "f73bdf29-d742-4816-fc36-da354b2fcbf9"
      },
      "outputs": [
        {
          "data": {
            "text/plain": [
              "array([[7, 8, 1, 5, 9],\n",
              "       [8, 9, 4, 3, 0],\n",
              "       [3, 5, 0, 2, 3]])"
            ]
          },
          "execution_count": 319,
          "metadata": {},
          "output_type": "execute_result"
        }
      ],
      "source": [
        "random_array"
      ]
    },
    {
      "cell_type": "code",
      "execution_count": null,
      "metadata": {
        "id": "x5MazQYDEaqj",
        "outputId": "05e2d29f-0c5b-4a78-ff0b-d14ff1791d1d"
      },
      "outputs": [
        {
          "data": {
            "text/plain": [
              "array([1, 1, 1, 0, 0])"
            ]
          },
          "execution_count": 321,
          "metadata": {},
          "output_type": "execute_result"
        }
      ],
      "source": [
        "np.argmax(random_array, axis=0)"
      ]
    },
    {
      "cell_type": "code",
      "execution_count": null,
      "metadata": {
        "id": "DZ0oavWCEaqk",
        "outputId": "5441d8d0-b00a-4cbd-c0f7-ac07659dd103"
      },
      "outputs": [
        {
          "data": {
            "text/plain": [
              "array([4, 1, 1])"
            ]
          },
          "execution_count": 322,
          "metadata": {},
          "output_type": "execute_result"
        }
      ],
      "source": [
        "np.argmax(random_array, axis=1)"
      ]
    },
    {
      "cell_type": "markdown",
      "metadata": {
        "id": "4vMId_GBEaqm"
      },
      "source": [
        "## 6. Practical Example - NumPy in Action!!!!"
      ]
    },
    {
      "cell_type": "markdown",
      "metadata": {
        "id": "pJrkVkqTEaqm"
      },
      "source": [
        "<img src=\"https://github.com/mrdbourke/zero-to-mastery-ml/blob/master/section-2-data-science-and-ml-tools/images/panda.png?raw=1\"/>"
      ]
    },
    {
      "cell_type": "code",
      "execution_count": null,
      "metadata": {
        "id": "1Wz04iksEaqn",
        "outputId": "9dcfaceb-d311-4b33-ed82-57894dfadcfe"
      },
      "outputs": [
        {
          "name": "stdout",
          "output_type": "stream",
          "text": [
            "<class 'numpy.ndarray'>\n"
          ]
        }
      ],
      "source": [
        "# Turn an image into a NumPy array\n",
        "from matplotlib.image import imread\n",
        "\n",
        "panda = imread(\"images/panda.png\")\n",
        "print(type(panda))"
      ]
    },
    {
      "cell_type": "code",
      "execution_count": null,
      "metadata": {
        "id": "Kt2d4edIEaqn",
        "outputId": "5cacf6ee-5d67-4d07-b8db-38d61cf976a9"
      },
      "outputs": [
        {
          "data": {
            "text/plain": [
              "(24465000, (2330, 3500, 3), 3)"
            ]
          },
          "execution_count": 327,
          "metadata": {},
          "output_type": "execute_result"
        }
      ],
      "source": [
        "panda.size, panda.shape, panda.ndim"
      ]
    },
    {
      "cell_type": "code",
      "execution_count": null,
      "metadata": {
        "id": "R7WaM9GGEaqn",
        "outputId": "6f44fefa-3494-4d65-cf21-71c7f7d7b425"
      },
      "outputs": [
        {
          "data": {
            "text/plain": [
              "array([[[0.05490196, 0.10588235, 0.06666667],\n",
              "        [0.05490196, 0.10588235, 0.06666667],\n",
              "        [0.05490196, 0.10588235, 0.06666667],\n",
              "        ...,\n",
              "        [0.16470589, 0.12941177, 0.09411765],\n",
              "        [0.16470589, 0.12941177, 0.09411765],\n",
              "        [0.16470589, 0.12941177, 0.09411765]],\n",
              "\n",
              "       [[0.05490196, 0.10588235, 0.06666667],\n",
              "        [0.05490196, 0.10588235, 0.06666667],\n",
              "        [0.05490196, 0.10588235, 0.06666667],\n",
              "        ...,\n",
              "        [0.16470589, 0.12941177, 0.09411765],\n",
              "        [0.16470589, 0.12941177, 0.09411765],\n",
              "        [0.16470589, 0.12941177, 0.09411765]],\n",
              "\n",
              "       [[0.05490196, 0.10588235, 0.06666667],\n",
              "        [0.05490196, 0.10588235, 0.06666667],\n",
              "        [0.05490196, 0.10588235, 0.06666667],\n",
              "        ...,\n",
              "        [0.16470589, 0.12941177, 0.09411765],\n",
              "        [0.16470589, 0.12941177, 0.09411765],\n",
              "        [0.16470589, 0.12941177, 0.09411765]],\n",
              "\n",
              "       [[0.05490196, 0.10588235, 0.06666667],\n",
              "        [0.05490196, 0.10588235, 0.06666667],\n",
              "        [0.05490196, 0.10588235, 0.06666667],\n",
              "        ...,\n",
              "        [0.16862746, 0.13333334, 0.09803922],\n",
              "        [0.16862746, 0.13333334, 0.09803922],\n",
              "        [0.16862746, 0.13333334, 0.09803922]],\n",
              "\n",
              "       [[0.05490196, 0.10588235, 0.06666667],\n",
              "        [0.05490196, 0.10588235, 0.06666667],\n",
              "        [0.05490196, 0.10588235, 0.06666667],\n",
              "        ...,\n",
              "        [0.16862746, 0.13333334, 0.09803922],\n",
              "        [0.16862746, 0.13333334, 0.09803922],\n",
              "        [0.16862746, 0.13333334, 0.09803922]]], dtype=float32)"
            ]
          },
          "execution_count": 330,
          "metadata": {},
          "output_type": "execute_result"
        }
      ],
      "source": [
        "panda[:5]"
      ]
    },
    {
      "cell_type": "markdown",
      "metadata": {
        "id": "w8uBKe2GEaqo"
      },
      "source": [
        "<img src=\"https://github.com/mrdbourke/zero-to-mastery-ml/blob/master/section-2-data-science-and-ml-tools/images/car-photo.png?raw=1\"/>"
      ]
    },
    {
      "cell_type": "code",
      "execution_count": null,
      "metadata": {
        "id": "pJW3uQJfEaqp",
        "outputId": "c5b0c9d0-0536-4770-b1ef-9cbc5e5ec610"
      },
      "outputs": [
        {
          "name": "stdout",
          "output_type": "stream",
          "text": [
            "<class 'numpy.ndarray'>\n"
          ]
        }
      ],
      "source": [
        "car = imread(\"images/car-photo.png\")\n",
        "print(type(car))"
      ]
    },
    {
      "cell_type": "code",
      "execution_count": null,
      "metadata": {
        "id": "D3LrmF2iEaqr",
        "outputId": "bbf211e9-79dd-4b10-809a-251db6ff537c"
      },
      "outputs": [
        {
          "data": {
            "text/plain": [
              "array([[[0.5019608 , 0.50980395, 0.4862745 , 1.        ],\n",
              "        [0.3372549 , 0.34509805, 0.30588236, 1.        ],\n",
              "        [0.20392157, 0.21568628, 0.14901961, 1.        ],\n",
              "        ...,\n",
              "        [0.64705884, 0.7058824 , 0.54901963, 1.        ],\n",
              "        [0.59607846, 0.63529414, 0.45882353, 1.        ],\n",
              "        [0.44705883, 0.47058824, 0.3372549 , 1.        ]]], dtype=float32)"
            ]
          },
          "execution_count": 333,
          "metadata": {},
          "output_type": "execute_result"
        }
      ],
      "source": [
        "car[:1]"
      ]
    },
    {
      "cell_type": "markdown",
      "metadata": {
        "id": "XGaoW-cIEaqs"
      },
      "source": [
        "<img src=\"https://github.com/mrdbourke/zero-to-mastery-ml/blob/master/section-2-data-science-and-ml-tools/images/dog-photo.png?raw=1\"/>"
      ]
    },
    {
      "cell_type": "code",
      "execution_count": null,
      "metadata": {
        "id": "UAXu686MEaqs",
        "outputId": "13a44225-a4c2-4a0b-f2b4-62fa3865b904"
      },
      "outputs": [
        {
          "name": "stdout",
          "output_type": "stream",
          "text": [
            "<class 'numpy.ndarray'>\n"
          ]
        }
      ],
      "source": [
        "dog = imread(\"images/dog-photo.png\")\n",
        "print(type(dog))"
      ]
    },
    {
      "cell_type": "code",
      "execution_count": null,
      "metadata": {
        "id": "oRlOIpskEaqt",
        "outputId": "3a8a10dc-f272-4485-a0f0-be0b0f590575"
      },
      "outputs": [
        {
          "data": {
            "text/plain": [
              "array([[[0.70980394, 0.80784315, 0.88235295, 1.        ],\n",
              "        [0.72156864, 0.8117647 , 0.8862745 , 1.        ],\n",
              "        [0.7411765 , 0.8156863 , 0.8862745 , 1.        ],\n",
              "        ...,\n",
              "        [0.49803922, 0.6862745 , 0.8392157 , 1.        ],\n",
              "        [0.49411765, 0.68235296, 0.8392157 , 1.        ],\n",
              "        [0.49411765, 0.68235296, 0.8352941 , 1.        ]],\n",
              "\n",
              "       [[0.69411767, 0.8039216 , 0.8862745 , 1.        ],\n",
              "        [0.7019608 , 0.8039216 , 0.88235295, 1.        ],\n",
              "        [0.7058824 , 0.80784315, 0.88235295, 1.        ],\n",
              "        ...,\n",
              "        [0.5019608 , 0.6862745 , 0.84705883, 1.        ],\n",
              "        [0.49411765, 0.68235296, 0.84313726, 1.        ],\n",
              "        [0.49411765, 0.68235296, 0.8392157 , 1.        ]],\n",
              "\n",
              "       [[0.6901961 , 0.8       , 0.88235295, 1.        ],\n",
              "        [0.69803923, 0.8039216 , 0.88235295, 1.        ],\n",
              "        [0.7058824 , 0.80784315, 0.88235295, 1.        ],\n",
              "        ...,\n",
              "        [0.5019608 , 0.6862745 , 0.84705883, 1.        ],\n",
              "        [0.49803922, 0.6862745 , 0.84313726, 1.        ],\n",
              "        [0.49803922, 0.6862745 , 0.84313726, 1.        ]],\n",
              "\n",
              "       ...,\n",
              "\n",
              "       [[0.9098039 , 0.81960785, 0.654902  , 1.        ],\n",
              "        [0.8352941 , 0.7490196 , 0.6509804 , 1.        ],\n",
              "        [0.72156864, 0.6313726 , 0.5372549 , 1.        ],\n",
              "        ...,\n",
              "        [0.01568628, 0.07058824, 0.02352941, 1.        ],\n",
              "        [0.03921569, 0.09411765, 0.03529412, 1.        ],\n",
              "        [0.03921569, 0.09019608, 0.05490196, 1.        ]],\n",
              "\n",
              "       [[0.9137255 , 0.83137256, 0.6784314 , 1.        ],\n",
              "        [0.8117647 , 0.7294118 , 0.627451  , 1.        ],\n",
              "        [0.65882355, 0.5686275 , 0.47843137, 1.        ],\n",
              "        ...,\n",
              "        [0.00392157, 0.05490196, 0.03529412, 1.        ],\n",
              "        [0.03137255, 0.09019608, 0.05490196, 1.        ],\n",
              "        [0.04705882, 0.10588235, 0.06666667, 1.        ]],\n",
              "\n",
              "       [[0.9137255 , 0.83137256, 0.68235296, 1.        ],\n",
              "        [0.76862746, 0.68235296, 0.5882353 , 1.        ],\n",
              "        [0.59607846, 0.5058824 , 0.44313726, 1.        ],\n",
              "        ...,\n",
              "        [0.03921569, 0.10196079, 0.07058824, 1.        ],\n",
              "        [0.02745098, 0.08235294, 0.05882353, 1.        ],\n",
              "        [0.05098039, 0.11372549, 0.07058824, 1.        ]]], dtype=float32)"
            ]
          },
          "execution_count": 335,
          "metadata": {},
          "output_type": "execute_result"
        }
      ],
      "source": [
        "dog"
      ]
    },
    {
      "cell_type": "code",
      "execution_count": null,
      "metadata": {
        "id": "3AC3hDjsEaqt"
      },
      "outputs": [],
      "source": [
        "# Create a DataFrame from a NumPy array\n",
        "import pandas as pd\n",
        "\n",
        "df = pd.DataFrame(a2)\n",
        "df\n",
        "df3 = pd.DataFrame(a3[0])\n",
        "df3"
      ]
    }
  ],
  "metadata": {
    "kernelspec": {
      "display_name": "Python 3",
      "language": "python",
      "name": "python3"
    },
    "language_info": {
      "codemirror_mode": {
        "name": "ipython",
        "version": 3
      },
      "file_extension": ".py",
      "mimetype": "text/x-python",
      "name": "python",
      "nbconvert_exporter": "python",
      "pygments_lexer": "ipython3",
      "version": "3.7.6"
    },
    "colab": {
      "provenance": [],
      "toc_visible": true
    }
  },
  "nbformat": 4,
  "nbformat_minor": 0
}